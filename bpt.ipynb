{
 "cells": [
  {
   "cell_type": "code",
   "execution_count": 1,
   "metadata": {
    "colab": {},
    "colab_type": "code",
    "id": "oPGRUkW1cdWo",
    "outputId": "0ba33d20-01eb-488d-c2e9-40e8987c775a"
   },
   "outputs": [
    {
     "name": "stdout",
     "output_type": "stream",
     "text": [
      "(506, 6)\n",
      "(506, 5) (506,)\n"
     ]
    }
   ],
   "source": [
    "import pickle\n",
    "with open('C:\\\\Users\\\\nsuguru\\\\Downloads\\\\data.pkl', 'rb') as f:\n",
    "    data = pickle.load(f)\n",
    "print(data.shape)\n",
    "X = data[:, :5]\n",
    "Y = data[:, -1]\n",
    "print(X.shape, Y.shape)"
   ]
  },
  {
   "cell_type": "code",
   "execution_count": 2,
   "metadata": {
    "colab": {},
    "colab_type": "code",
    "id": "a1Sga3VmcdW0"
   },
   "outputs": [],
   "source": [
    "def forward_propagation(x,y,w):\n",
    "        exp_value=math.exp(pow((w[0]*x[0]+w[1]*x[1]),2)+w[5])\n",
    "        #print(exp_value)\n",
    "        tanh_value=np.tanh(exp_value+w[6])\n",
    "        #print(tanh_value)\n",
    "        sigmoid_value=(1/(1+math.exp((-math.sin(w[2]*x[2]))*(w[3]*x[3]+w[4]*x[4])+w[7])))\n",
    "        y_dash=tanh_value+(sigmoid_value*w[8])\n",
    "        dloss=y_dash-y\n",
    "        return dloss,y_dash,exp_value,tanh_value,sigmoid_value"
   ]
  },
  {
   "cell_type": "code",
   "execution_count": 5,
   "metadata": {
    "colab": {},
    "colab_type": "code",
    "id": "ZXGm8u5CcdW4"
   },
   "outputs": [],
   "source": [
    "def backward_propagation(dloss,y_dash,exp_value,tanh_value,sigmoid_value,x,w):\n",
    "        dw=[]\n",
    "        dw.append((dloss)*(1-pow(tanh_value,2))*(exp_value)*((2*w[0]*x[0]*x[0])+(2*w[1]*x[0]*x[1])))\n",
    "        dw.append((dloss)*(1-pow(tanh_value,2))*(exp_value)*((2*w[1]*x[1]*x[1])+(2*w[0]*x[0]*x[1])))\n",
    "        dw.append((dloss)*(sigmoid_value*(1-sigmoid_value))*(w[3]*x[3]+w[4]*x[4])*(math.cos(w[2]*x[2]))*x[2]*w[8])\n",
    "        dw.append((dloss)*(sigmoid_value*(1-sigmoid_value))*(x[3]*(math.sin(w[2]*x[2])))*w[8])\n",
    "        dw.append((dloss)*(sigmoid_value*(1-sigmoid_value))*(x[4]*(math.sin(w[2]*x[2])))*w[8])\n",
    "        dw.append((dloss)*(1-pow(tanh_value,2))*(exp_value))\n",
    "        dw.append((dloss)*(1-pow(tanh_value,2)))\n",
    "        dw.append((dloss)*sigmoid_value*(1-sigmoid_value)*(-w[8]))\n",
    "        dw.append((dloss)*sigmoid_value)\n",
    "        return dw"
   ]
  },
  {
   "cell_type": "code",
   "execution_count": 6,
   "metadata": {
    "colab": {},
    "colab_type": "code",
    "id": "kwclgr3zcdXF",
    "outputId": "6ce6c240-ceaa-4df0-941d-e6e6e209ff7d"
   },
   "outputs": [
    {
     "name": "stdout",
     "output_type": "stream",
     "text": [
      "[ 0.01825359 -0.10027386 -0.07996141 -0.03645094 -0.19482272 -0.13672314\n",
      " -0.00885507  0.21242892 -0.01781037]\n",
      "dw values: [-0.015451553212631183, -0.0014398478216943887, -0.00039095222293988803, -0.0003995386409679873, -8.643823497411277e-05, -0.5227730427354274, -0.5992859639190619, -0.005149178025013335, -0.5243219330632092]\n",
      "0.44859968760308383 0.6980419328134169 0.8723265255817536 -1.1687969197319716\n",
      "dw_approx [-0.015451553058154488, -0.0014398478209720622, -0.0003909522211520411, -0.00039953864106045955, -8.643823379284044e-05, -0.5227730412526999, -0.5992859666759109, -0.005149178021746081, -0.5243219330636206]\n",
      "gradient_check [4.9987432968946414e-09, 2.5083431901266436e-10, 2.2865286883617073e-09, -1.1572379279492542e-10, 6.83304296068568e-09, 1.4181369133748106e-09, -2.3001115010128147e-09, 3.172597296394729e-10, -3.9236261825072244e-13]\n"
     ]
    }
   ],
   "source": [
    "\n",
    "from tqdm import tqdm\n",
    "import numpy as np\n",
    "import math as math\n",
    "weights=np.random.normal(0, 0.1, size=(9))\n",
    "print(weights)\n",
    "Loss=0\n",
    "dw_approx=[]\n",
    "gradient_check=[]\n",
    "learning_rate=0.2\n",
    "dloss,y_dash,exp_value,tanh_value,sigmoid_value=forward_propagation(X[0],Y[0],weights)\n",
    "dw=backward_propagation(dloss,y_dash,exp_value,tanh_value,sigmoid_value,X[0],weights)\n",
    "print('dw values:',dw)\n",
    "ep=0.0001\n",
    "print(sigmoid_value,tanh_value,exp_value,dloss,)\n",
    "for i in range(len(weights)):\n",
    "    weights[i]=weights[i]+ep\n",
    "    dloss,y_dash_plus,exp_value,tanh_value,sigmoid_value=forward_propagation(X[0],Y[0],weights)\n",
    "    f_plus=(Y[0]-y_dash_plus)*(Y[0]-y_dash_plus)/2\n",
    "    \n",
    "    weights[i]=weights[i]-(2*ep)\n",
    "    dloss,y_dash_minus,exp_value,tanh_value,sigmoid_value=forward_propagation(X[0],Y[0],weights)\n",
    "    f_minus=(Y[0]-y_dash_minus)*(Y[0]-y_dash_minus)/2\n",
    "    dw_approx.append((f_plus-f_minus)/(ep*2))\n",
    "    gradient_check.append((dw[i]-dw_approx[i])/(dw[i]+dw_approx[i]))\n",
    "    weights[i]=weights[i]+ep\n",
    "print('dw_approx',dw_approx)\n",
    "print('gradient_check',gradient_check)"
   ]
  },
  {
   "cell_type": "code",
   "execution_count": 23,
   "metadata": {},
   "outputs": [],
   "source": [
    "org=np.random.normal(0, 0.1, size=(9))"
   ]
  },
  {
   "cell_type": "code",
   "execution_count": 24,
   "metadata": {
    "colab": {},
    "colab_type": "code",
    "id": "l2vCVaUqcdW-",
    "outputId": "8f695908-300c-4f37-fa25-c989e7418045"
   },
   "outputs": [
    {
     "name": "stderr",
     "output_type": "stream",
     "text": [
      "\r",
      "  0%|                                                                                          | 0/100 [00:00<?, ?it/s]"
     ]
    },
    {
     "name": "stdout",
     "output_type": "stream",
     "text": [
      "13.08933858656746\n",
      "9.45205996755443\n",
      "9.452059967566663\n",
      "9.452059967566663\n",
      "9.452059967566663\n",
      "9.452059967566663\n"
     ]
    },
    {
     "name": "stderr",
     "output_type": "stream",
     "text": [
      "\r",
      "  6%|████▉                                                                             | 6/100 [00:00<00:01, 57.85it/s]"
     ]
    },
    {
     "name": "stdout",
     "output_type": "stream",
     "text": [
      "9.452059967566663\n",
      "9.452059967566663\n",
      "9.452059967566663\n",
      "9.452059967566663\n",
      "9.452059967566663\n",
      "9.452059967566663\n",
      "9.452059967566663\n"
     ]
    },
    {
     "name": "stderr",
     "output_type": "stream",
     "text": [
      "\r",
      " 13%|██████████▌                                                                      | 13/100 [00:00<00:01, 59.97it/s]"
     ]
    },
    {
     "name": "stdout",
     "output_type": "stream",
     "text": [
      "9.452059967566663\n",
      "9.452059967566663\n",
      "9.452059967566663\n",
      "9.452059967566663\n",
      "9.452059967566663\n",
      "9.452059967566663\n",
      "9.452059967566663\n",
      "9.452059967566663\n"
     ]
    },
    {
     "name": "stderr",
     "output_type": "stream",
     "text": [
      "\r",
      " 21%|█████████████████                                                                | 21/100 [00:00<00:01, 62.31it/s]"
     ]
    },
    {
     "name": "stdout",
     "output_type": "stream",
     "text": [
      "9.452059967566663\n",
      "9.452059967566663\n",
      "9.452059967566663\n",
      "9.452059967566663\n",
      "9.452059967566663\n",
      "9.452059967566663\n",
      "9.452059967566663\n"
     ]
    },
    {
     "name": "stderr",
     "output_type": "stream",
     "text": [
      "\r",
      " 28%|██████████████████████▋                                                          | 28/100 [00:00<00:01, 64.13it/s]"
     ]
    },
    {
     "name": "stdout",
     "output_type": "stream",
     "text": [
      "9.452059967566663\n",
      "9.452059967566663\n",
      "9.452059967566663\n",
      "9.452059967566663\n",
      "9.452059967566663\n",
      "9.452059967566663\n",
      "9.452059967566663\n"
     ]
    },
    {
     "name": "stderr",
     "output_type": "stream",
     "text": [
      "\r",
      " 35%|████████████████████████████▎                                                    | 35/100 [00:00<00:01, 64.65it/s]"
     ]
    },
    {
     "name": "stdout",
     "output_type": "stream",
     "text": [
      "9.452059967566663\n",
      "9.452059967566663\n",
      "9.452059967566663\n",
      "9.452059967566663\n",
      "9.452059967566663\n",
      "9.452059967566663\n",
      "9.452059967566663\n",
      "9.452059967566663\n"
     ]
    },
    {
     "name": "stderr",
     "output_type": "stream",
     "text": [
      "\r",
      " 43%|██████████████████████████████████▊                                              | 43/100 [00:00<00:00, 65.78it/s]"
     ]
    },
    {
     "name": "stdout",
     "output_type": "stream",
     "text": [
      "9.452059967566663\n",
      "9.452059967566663\n",
      "9.452059967566663\n",
      "9.452059967566663\n",
      "9.452059967566663\n",
      "9.452059967566663\n",
      "9.452059967566663\n",
      "9.452059967566663\n"
     ]
    },
    {
     "name": "stderr",
     "output_type": "stream",
     "text": [
      "\r",
      " 51%|█████████████████████████████████████████▎                                       | 51/100 [00:00<00:00, 67.60it/s]"
     ]
    },
    {
     "name": "stdout",
     "output_type": "stream",
     "text": [
      "9.452059967566663\n",
      "9.452059967566663\n",
      "9.452059967566663\n",
      "9.452059967566663\n",
      "9.452059967566663\n",
      "9.452059967566663\n",
      "9.452059967566663\n",
      "9.452059967566663\n"
     ]
    },
    {
     "name": "stderr",
     "output_type": "stream",
     "text": [
      "\r",
      " 59%|███████████████████████████████████████████████▊                                 | 59/100 [00:00<00:00, 68.76it/s]"
     ]
    },
    {
     "name": "stdout",
     "output_type": "stream",
     "text": [
      "9.452059967566663\n",
      "9.452059967566663\n",
      "9.452059967566663\n",
      "9.452059967566663\n",
      "9.452059967566663\n",
      "9.452059967566663\n",
      "9.452059967566663\n",
      "9.452059967566663\n"
     ]
    },
    {
     "name": "stderr",
     "output_type": "stream",
     "text": [
      "\r",
      " 67%|██████████████████████████████████████████████████████▎                          | 67/100 [00:00<00:00, 69.77it/s]"
     ]
    },
    {
     "name": "stdout",
     "output_type": "stream",
     "text": [
      "9.452059967566663\n",
      "9.452059967566663\n",
      "9.452059967566663\n",
      "9.452059967566663\n",
      "9.452059967566663\n",
      "9.452059967566663\n",
      "9.452059967566663\n"
     ]
    },
    {
     "name": "stderr",
     "output_type": "stream",
     "text": [
      "\r",
      " 74%|███████████████████████████████████████████████████████████▉                     | 74/100 [00:01<00:00, 66.71it/s]"
     ]
    },
    {
     "name": "stdout",
     "output_type": "stream",
     "text": [
      "9.452059967566663\n",
      "9.452059967566663\n",
      "9.452059967566663\n",
      "9.452059967566663\n",
      "9.452059967566663\n",
      "9.452059967566663\n",
      "9.452059967566663\n"
     ]
    },
    {
     "name": "stderr",
     "output_type": "stream",
     "text": [
      "\r",
      " 81%|█████████████████████████████████████████████████████████████████▌               | 81/100 [00:01<00:00, 66.56it/s]"
     ]
    },
    {
     "name": "stdout",
     "output_type": "stream",
     "text": [
      "9.452059967566663\n",
      "9.452059967566663\n",
      "9.452059967566663\n",
      "9.452059967566663\n",
      "9.452059967566663\n",
      "9.452059967566663\n",
      "9.452059967566663\n",
      "9.452059967566663\n"
     ]
    },
    {
     "name": "stderr",
     "output_type": "stream",
     "text": [
      "\r",
      " 89%|████████████████████████████████████████████████████████████████████████         | 89/100 [00:01<00:00, 68.88it/s]"
     ]
    },
    {
     "name": "stdout",
     "output_type": "stream",
     "text": [
      "9.452059967566663\n",
      "9.452059967566663\n",
      "9.452059967566663\n",
      "9.452059967566663\n",
      "9.452059967566663\n",
      "9.452059967566663\n",
      "9.452059967566663\n"
     ]
    },
    {
     "name": "stderr",
     "output_type": "stream",
     "text": [
      "\r",
      " 96%|█████████████████████████████████████████████████████████████████████████████▊   | 96/100 [00:01<00:00, 69.06it/s]"
     ]
    },
    {
     "name": "stdout",
     "output_type": "stream",
     "text": [
      "9.452059967566663\n",
      "9.452059967566663\n",
      "9.452059967566663\n",
      "9.452059967566663\n"
     ]
    },
    {
     "name": "stderr",
     "output_type": "stream",
     "text": [
      "100%|████████████████████████████████████████████████████████████████████████████████| 100/100 [00:01<00:00, 67.77it/s]\n"
     ]
    }
   ],
   "source": [
    "#Vanilla Update\n",
    "weights=[]\n",
    "weights.extend(org)\n",
    "learning_rate=0.1\n",
    "loss=0\n",
    "for j in tqdm(range(100)):\n",
    "    loss=0\n",
    "    for i in range(len(X)):\n",
    "        dloss,y_dash,exp_value,tanh_value,sigmoid_value=forward_propagation(X[0],Y[0],weights)\n",
    "        dw=backward_propagation(dloss,y_dash,exp_value,tanh_value,sigmoid_value,X[0],weights)\n",
    "        loss=loss+((Y[i]-y_dash)*(Y[i]-y_dash))\n",
    "        for k in range(len(weights)):\n",
    "            weights[k] = weights[k]-learning_rate*dw[k]\n",
    "    print(loss/2)"
   ]
  },
  {
   "cell_type": "code",
   "execution_count": 17,
   "metadata": {},
   "outputs": [
    {
     "data": {
      "text/plain": [
       "array([0, 0, 0, 0, 0, 0, 0, 0, 0])"
      ]
     },
     "execution_count": 17,
     "metadata": {},
     "output_type": "execute_result"
    }
   ],
   "source": [
    "velocity=np.zeros(9,dtype=int)\n",
    "velocity"
   ]
  },
  {
   "cell_type": "code",
   "execution_count": 18,
   "metadata": {
    "colab": {},
    "colab_type": "code",
    "id": "YWJXozwMcdXH"
   },
   "outputs": [
    {
     "name": "stderr",
     "output_type": "stream",
     "text": [
      "100%|████████████████████████████████████████████████████████████████████████████████| 100/100 [00:02<00:00, 41.36it/s]\n"
     ]
    },
    {
     "name": "stdout",
     "output_type": "stream",
     "text": [
      "[-0.15549015 -0.05754806 -0.03537663 -0.14119932 -0.14575603 -0.12501358\n",
      " -0.0368306  -0.00618637 -0.14667815]\n"
     ]
    }
   ],
   "source": [
    "#Momentun Update:\n",
    "velocity=np.zeros(9,dtype=int)\n",
    "weights=[]\n",
    "weights.extend(org)\n",
    "loss=0\n",
    "learning_rate=0.1\n",
    "gamma=0.9\n",
    "for j in tqdm(range(100)):\n",
    "    for i in range(len(X)):\n",
    "        dloss,y_dash,exp_value,tanh_value,sigmoid_value=forward_propagation(X[0],Y[0],weights)\n",
    "        dw=backward_propagation(dloss,y_dash,exp_value,tanh_value,sigmoid_value,X[0],weights)\n",
    "        for k in range(len(weights)):\n",
    "            velocity[k] = (gamma * velocity[k]) + (learning_rate * dw[k])\n",
    "            weights[k] = weights[k]+velocity[k]\n",
    "print(weights)"
   ]
  },
  {
   "cell_type": "code",
   "execution_count": 19,
   "metadata": {},
   "outputs": [
    {
     "name": "stderr",
     "output_type": "stream",
     "text": [
      "100%|████████████████████████████████████████████████████████████████████████████████| 100/100 [00:11<00:00,  9.12it/s]\n"
     ]
    },
    {
     "name": "stdout",
     "output_type": "stream",
     "text": [
      "[ 0.00352155  0.11430999  0.01181218 -0.02167796 -0.042525    0.04495021\n",
      " -0.0058288  -0.05059328 -0.07087528]\n"
     ]
    }
   ],
   "source": [
    "velocity=np.zeros(9,dtype=int)\n",
    "weights=np.random.normal(0, 0.1, size=(9))\n",
    "learning_rate=0.1\n",
    "gamma=0.9\n",
    "for j in tqdm(range(100)):\n",
    "    for i in range(len(X)):\n",
    "        \n",
    "        dloss,y_dash,exp_value,tanh_value,sigmoid_value=forward_propagation(X[0],Y[0],weights)\n",
    "        dw=backward_propagation(dloss,y_dash,exp_value,tanh_value,sigmoid_value,X[0],weights)\n",
    "        for k in range(len(weights)):\n",
    "            weights=weights+(gamma * velocity[k])\n",
    "            dw_ahead=backward_propagation(dloss,y_dash,exp_value,tanh_value,sigmoid_value,X[0],weights)\n",
    "            weights=weights-(gamma * velocity[k])\n",
    "            velocity[k] = (gamma * velocity[k]) + (learning_rate * dw_ahead[k])\n",
    "            weights[k] = weights[k]+velocity[k]\n",
    "print(weights)"
   ]
  },
  {
   "cell_type": "code",
   "execution_count": null,
   "metadata": {},
   "outputs": [],
   "source": [
    "https://wiseodd.github.io/techblog/2016/06/22/nn-optimization/"
   ]
  }
 ],
 "metadata": {
  "colab": {
   "name": "bpt.ipynb",
   "provenance": []
  },
  "kernelspec": {
   "display_name": "Python 3",
   "language": "python",
   "name": "python3"
  },
  "language_info": {
   "codemirror_mode": {
    "name": "ipython",
    "version": 3
   },
   "file_extension": ".py",
   "mimetype": "text/x-python",
   "name": "python",
   "nbconvert_exporter": "python",
   "pygments_lexer": "ipython3",
   "version": "3.7.3"
  }
 },
 "nbformat": 4,
 "nbformat_minor": 1
}

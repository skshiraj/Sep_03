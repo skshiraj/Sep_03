{
 "cells": [
  {
   "cell_type": "code",
   "execution_count": 1,
   "metadata": {},
   "outputs": [
    {
     "name": "stdout",
     "output_type": "stream",
     "text": [
      "(506, 6)\n",
      "(506, 5) (506,)\n"
     ]
    }
   ],
   "source": [
    "import pickle\n",
    "with open('C:\\\\Users\\\\nsuguru\\\\Downloads\\\\data.pkl', 'rb') as f:\n",
    "    data = pickle.load(f)\n",
    "print(data.shape)\n",
    "X = data[:, :5]\n",
    "Y = data[:, -1]\n",
    "print(X.shape, Y.shape)"
   ]
  },
  {
   "cell_type": "code",
   "execution_count": 134,
   "metadata": {},
   "outputs": [],
   "source": [
    "def forward_propagation(x,y,w):\n",
    "        exp_value=math.exp(pow((w[0]*x[0]+w[1]*x[1]),2)+w[5])\n",
    "        #print(exp_value)\n",
    "        tanh_value=np.tanh(exp_value+w[6])\n",
    "        #print(tanh_value)\n",
    "        sigmoid_value=(1/(1+math.exp((-math.sin(w[2]*x[2]))*(w[3]*x[3]+w[4]*x[4])+w[7])))\n",
    "        y_dash=tanh_value+(sigmoid_value*w[8])\n",
    "        dloss=y_dash-y\n",
    "        return dloss,y_dash,exp_value,tanh_value,sigmoid_value"
   ]
  },
  {
   "cell_type": "code",
   "execution_count": 135,
   "metadata": {},
   "outputs": [],
   "source": [
    "def backward_propagation(dloss,y_dash,exp_value,tanh_value,sigmoid_value,x,w):\n",
    "        dw=[]\n",
    "        dw.append((dloss)*(1-pow(tanh_value,2))*(exp_value)*((2*w[0]*x[0]*x[0])+(2*w[1]*x[0]*x[1])))\n",
    "        dw.append((dloss)*(1-pow(tanh_value,2))*(exp_value)*((2*w[1]*x[1]*x[1])+(2*w[0]*x[0]*x[1])))\n",
    "        dw.append((dloss)*(sigmoid_value*(1-sigmoid_value))*(w[3]*x[3]+w[4]*x[4])*(math.cos(w[2]*x[2]))*x[2]*w[8])\n",
    "        dw.append((dloss)*(sigmoid_value*(1-sigmoid_value))*(x[3]*(math.sin(w[2]*x[2])))*w[8])\n",
    "        dw.append((dloss)*(sigmoid_value*(1-sigmoid_value))*(x[4]*(math.sin(w[2]*x[2])))*w[8])\n",
    "        dw.append((dloss)*(1-pow(tanh_value,2))*(exp_value))\n",
    "        dw.append((dloss)*(1-pow(tanh_value,2)))\n",
    "        dw.append((dloss)*sigmoid_value*(1-sigmoid_value)*w[8])\n",
    "        dw.append((dloss)*sigmoid_value)\n",
    "        return dw"
   ]
  },
  {
   "cell_type": "code",
   "execution_count": 39,
   "metadata": {},
   "outputs": [
    {
     "data": {
      "text/plain": [
       "array([-0.07609673, -0.06656262,  0.003116  , -0.2489367 ,  0.07319669,\n",
       "       -0.06469185, -0.08837885, -0.01463403,  0.02000777])"
      ]
     },
     "execution_count": 39,
     "metadata": {},
     "output_type": "execute_result"
    }
   ],
   "source": [
    "l=[]\n",
    "l=np.random.normal(0, 0.1, size=(9))\n",
    "l"
   ]
  },
  {
   "cell_type": "code",
   "execution_count": 132,
   "metadata": {},
   "outputs": [
    {
     "name": "stderr",
     "output_type": "stream",
     "text": [
      "\r",
      "  0%|                                                                                            | 0/3 [00:00<?, ?it/s]"
     ]
    },
    {
     "name": "stdout",
     "output_type": "stream",
     "text": [
      "0.6644055311982207\n",
      "0.7762276905803789\n",
      "0.9323784999338393\n"
     ]
    },
    {
     "name": "stderr",
     "output_type": "stream",
     "text": [
      "100%|███████████████████████████████████████████████████████████████████████████████████| 3/3 [00:00<00:00, 751.94it/s]\n"
     ]
    }
   ],
   "source": [
    "weights=[]\n",
    "weights.extend(l)\n",
    "from tqdm import tqdm\n",
    "import numpy as np\n",
    "import math as math\n",
    "y_pred=[]\n",
    "Loss=0\n",
    "learning_rate=0.1\n",
    "\n",
    "for j in tqdm(range(3)):\n",
    "    dloss,y_dash,exp_value,tanh_value,sigmoid_value=forward_propagation(X[0],Y[0],weights)\n",
    "    dw=backward_propagation(dloss,y_dash,exp_value,tanh_value,sigmoid_value,X[0],weights)\n",
    "    loss=(pow((Y[0]-y_dash),2))/2\n",
    "    print(loss)\n",
    "    for k in range(len(weights)):\n",
    "        weights[k] = weights[k]-learning_rate*dw[k]\n",
    "    #print(weights)"
   ]
  },
  {
   "cell_type": "code",
   "execution_count": 117,
   "metadata": {},
   "outputs": [
    {
     "name": "stdout",
     "output_type": "stream",
     "text": [
      "[0.15380522201922844, 0.014332288207024662, 0.0005972142920861669, -1.7473128142523675e-05, -3.7802259938038364e-06, -0.5633444222418879, -0.5942786414009604, -0.005765663835814332, -0.5803840021547211]\n",
      "0.15380522008945352\n"
     ]
    },
    {
     "data": {
      "text/plain": [
       "6.273437630933822e-09"
      ]
     },
     "execution_count": 117,
     "metadata": {},
     "output_type": "execute_result"
    }
   ],
   "source": [
    "#print(l)\n",
    "weights=[]\n",
    "weights.extend(l)\n",
    "from tqdm import tqdm\n",
    "import numpy as np\n",
    "import math as math\n",
    "y_pred=[]\n",
    "Loss=0\n",
    "learning_rate=0.2\n",
    "dloss,y_dash,exp_value,tanh_value,sigmoid_value=forward_propagation(X[0],Y[0],weights)\n",
    "dw=backward_propagation(dloss,y_dash,exp_value,tanh_value,sigmoid_value,X[0],weights)\n",
    "print(dw)\n",
    "ep=0.0001\n",
    "l_ep=[]\n",
    "l_ep.extend(l)\n",
    "l_ep[0]=l_ep[0]+ep\n",
    "dloss,y_dash_eplus,exp_value,tanh_value,sigmoid_value=forward_propagation(X[0],Y[0],l_ep)\n",
    "p=(Y[0]-y_dash_eplus)*(Y[0]-y_dash_eplus)/2\n",
    "l_ep=[]\n",
    "l_ep.extend(l)\n",
    "l_ep[0]=l_ep[0]-ep\n",
    "dloss,y_dash_eminus,exp_value,tanh_value,sigmoid_value=forward_propagation(X[0],Y[0],l_ep)\n",
    "q=(Y[0]-y_dash_eminus)*(Y[0]-y_dash_eminus)/2\n",
    "dw_ep=(p-q)/(ep*2)\n",
    "print(dw_ep)\n",
    "value=(dw[0]-dw_ep)/(dw[0]+dw_ep)\n",
    "abs(value)"
   ]
  },
  {
   "cell_type": "code",
   "execution_count": 140,
   "metadata": {},
   "outputs": [
    {
     "name": "stdout",
     "output_type": "stream",
     "text": [
      "[-0.06735876 -0.05829244 -0.13013472 -0.07233609 -0.05715624  0.14222393\n",
      " -0.02581385  0.00363054 -0.11614136]\n",
      "dw values: [0.10484723094614716, 0.009770154172273754, -0.0025923706705425257, -0.004031455826379827, -0.0008721857920027726, -0.43419042588035983, -0.37333293918409005, 0.032044620282593896, -0.5537662235996847]\n",
      "0.5017563830648604 0.8134682349157104 1.163011297179596 -1.1036555633176692\n",
      "dw_approx [0.10484722876291652, 0.009770154170696266, -0.0025923706603592223, -0.004031455826392083, -0.0008721857919224973, -0.4341904251164985, -0.373332941340232, -0.032044620256188594, -0.5537662235993723]\n",
      "gradient_check [1.0411484599885009e-08, 8.072995125902398e-11, 1.9640909293902548e-09, -1.520024264877412e-12, 4.601961266311309e-11, 8.796385902143635e-10, -2.8876931274132185e-09, 2427135338.78402, 2.82083617432265e-13]\n"
     ]
    }
   ],
   "source": [
    "\n",
    "from tqdm import tqdm\n",
    "import numpy as np\n",
    "import math as math\n",
    "weights=np.random.normal(0, 0.1, size=(9))\n",
    "print(weights)\n",
    "Loss=0\n",
    "dw_approx=[]\n",
    "gradient_check=[]\n",
    "learning_rate=0.2\n",
    "dloss,y_dash,exp_value,tanh_value,sigmoid_value=forward_propagation(X[0],Y[0],weights)\n",
    "dw=backward_propagation(dloss,y_dash,exp_value,tanh_value,sigmoid_value,X[0],weights)\n",
    "print('dw values:',dw)\n",
    "ep=0.0001\n",
    "print(sigmoid_value,tanh_value,exp_value,dloss,)\n",
    "for i in range(len(weights)):\n",
    "    weights[i]=weights[i]+ep\n",
    "    dloss,y_dash_plus,exp_value,tanh_value,sigmoid_value=forward_propagation(X[0],Y[0],weights)\n",
    "    f_plus=(Y[0]-y_dash_plus)*(Y[0]-y_dash_plus)/2\n",
    "    \n",
    "    weights[i]=weights[i]-(2*ep)\n",
    "    dloss,y_dash_minus,exp_value,tanh_value,sigmoid_value=forward_propagation(X[0],Y[0],weights)\n",
    "    f_minus=(Y[0]-y_dash_minus)*(Y[0]-y_dash_minus)/2\n",
    "    dw_approx.append((f_plus-f_minus)/(ep*2))\n",
    "    gradient_check.append((dw[i]-dw_approx[i])/(dw[i]+dw_approx[i]))\n",
    "    weights[i]=weights[i]+ep\n",
    "print('dw_approx',dw_approx)\n",
    "print('gradient_check',gradient_check)"
   ]
  },
  {
   "cell_type": "code",
   "execution_count": null,
   "metadata": {},
   "outputs": [],
   "source": [
    "gradient_check"
   ]
  }
 ],
 "metadata": {
  "kernelspec": {
   "display_name": "Python 3",
   "language": "python",
   "name": "python3"
  },
  "language_info": {
   "codemirror_mode": {
    "name": "ipython",
    "version": 3
   },
   "file_extension": ".py",
   "mimetype": "text/x-python",
   "name": "python",
   "nbconvert_exporter": "python",
   "pygments_lexer": "ipython3",
   "version": "3.7.3"
  }
 },
 "nbformat": 4,
 "nbformat_minor": 2
}

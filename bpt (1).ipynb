{
 "cells": [
  {
   "cell_type": "code",
   "execution_count": 7,
   "metadata": {
    "colab": {},
    "colab_type": "code",
    "id": "oPGRUkW1cdWo",
    "outputId": "0ba33d20-01eb-488d-c2e9-40e8987c775a"
   },
   "outputs": [
    {
     "name": "stdout",
     "output_type": "stream",
     "text": [
      "(506, 6)\n",
      "(506, 5) (506,)\n"
     ]
    }
   ],
   "source": [
    "import pickle\n",
    "with open('C:\\\\Users\\\\nsuguru\\\\Downloads\\\\data.pkl', 'rb') as f:\n",
    "    data = pickle.load(f)\n",
    "print(data.shape)\n",
    "X = data[:, :5]\n",
    "Y = data[:, -1]\n",
    "print(X.shape, Y.shape)"
   ]
  },
  {
   "cell_type": "code",
   "execution_count": 8,
   "metadata": {
    "colab": {},
    "colab_type": "code",
    "id": "a1Sga3VmcdW0"
   },
   "outputs": [],
   "source": [
    "def forward_propagation(x,y,w):\n",
    "        exp_value=math.exp(pow((w[0]*x[0]+w[1]*x[1]),2)+w[5])\n",
    "        #print(exp_value)\n",
    "        tanh_value=np.tanh(exp_value+w[6])\n",
    "        #print(tanh_value)\n",
    "        sigmoid_value=(1/(1+math.exp((-math.sin(w[2]*x[2]))*(w[3]*x[3]+w[4]*x[4])+w[7])))\n",
    "        y_dash=tanh_value+(sigmoid_value*w[8])\n",
    "        dloss=y_dash-y\n",
    "        return dloss,y_dash,exp_value,tanh_value,sigmoid_value"
   ]
  },
  {
   "cell_type": "code",
   "execution_count": 9,
   "metadata": {
    "colab": {},
    "colab_type": "code",
    "id": "ZXGm8u5CcdW4"
   },
   "outputs": [],
   "source": [
    "def backward_propagation(dloss,y_dash,exp_value,tanh_value,sigmoid_value,x,w):\n",
    "        dw=[]\n",
    "        dw.append((dloss)*(1-pow(tanh_value,2))*(exp_value)*((2*w[0]*x[0]*x[0])+(2*w[1]*x[0]*x[1])))\n",
    "        dw.append((dloss)*(1-pow(tanh_value,2))*(exp_value)*((2*w[1]*x[1]*x[1])+(2*w[0]*x[0]*x[1])))\n",
    "        dw.append((dloss)*(sigmoid_value*(1-sigmoid_value))*(w[3]*x[3]+w[4]*x[4])*(math.cos(w[2]*x[2]))*x[2]*w[8])\n",
    "        dw.append((dloss)*(sigmoid_value*(1-sigmoid_value))*(x[3]*(math.sin(w[2]*x[2])))*w[8])\n",
    "        dw.append((dloss)*(sigmoid_value*(1-sigmoid_value))*(x[4]*(math.sin(w[2]*x[2])))*w[8])\n",
    "        dw.append((dloss)*(1-pow(tanh_value,2))*(exp_value))\n",
    "        dw.append((dloss)*(1-pow(tanh_value,2)))\n",
    "        dw.append((dloss)*sigmoid_value*(1-sigmoid_value)*(-w[8]))\n",
    "        dw.append((dloss)*sigmoid_value)\n",
    "        return dw"
   ]
  },
  {
   "cell_type": "code",
   "execution_count": 10,
   "metadata": {
    "colab": {},
    "colab_type": "code",
    "id": "kwclgr3zcdXF",
    "outputId": "6ce6c240-ceaa-4df0-941d-e6e6e209ff7d"
   },
   "outputs": [
    {
     "name": "stdout",
     "output_type": "stream",
     "text": [
      "dw values: [0.111890383777984, 0.010426468014851788, -0.0006604601689183413, -0.0007658890235404396, -0.0001656963522238809, -0.5319017796474333, -0.479831753809958, -0.03158166769370096, -0.5391791256934588] \n",
      "\n",
      "dw_approx: [0.11189038173375909, 0.010426468013413626, -0.0006604601671122978, -0.0007658890233130933, -0.00016569635330476729, -0.5319017784022328, -0.47983175633536934, -0.03158166766659143, -0.5391791256925682] \n",
      "\n",
      "gradient_check:  [9.13494468422702e-09, 6.896688732312508e-11, 1.3672614753834794e-09, 1.4841990588354742e-10, -3.2616480871604637e-09, 1.1705173279835672e-09, -2.631559184867848e-09, 4.2919725096955574e-10, 8.259044795267015e-13]\n"
     ]
    }
   ],
   "source": [
    "\n",
    "from tqdm import tqdm\n",
    "import numpy as np\n",
    "import math as math\n",
    "weights=np.random.normal(0, 0.1, size=(9))\n",
    "dw_approx=[]\n",
    "gradient_check=[]\n",
    "learning_rate=0.2\n",
    "dloss,y_dash,exp_value,tanh_value,sigmoid_value=forward_propagation(X[0],Y[0],weights)\n",
    "dw=backward_propagation(dloss,y_dash,exp_value,tanh_value,sigmoid_value,X[0],weights)\n",
    "print('dw values:',dw,'\\n')\n",
    "ep=0.0001\n",
    "for i in range(len(weights)):\n",
    "    weights[i]=weights[i]+ep\n",
    "    dloss,y_dash_plus,exp_value,tanh_value,sigmoid_value=forward_propagation(X[0],Y[0],weights)\n",
    "    f_plus=(Y[0]-y_dash_plus)*(Y[0]-y_dash_plus)/2\n",
    "    \n",
    "    weights[i]=weights[i]-(2*ep)\n",
    "    dloss,y_dash_minus,exp_value,tanh_value,sigmoid_value=forward_propagation(X[0],Y[0],weights)\n",
    "    f_minus=(Y[0]-y_dash_minus)*(Y[0]-y_dash_minus)/2\n",
    "    dw_approx.append((f_plus-f_minus)/(ep*2))\n",
    "    gradient_check.append((dw[i]-dw_approx[i])/(dw[i]+dw_approx[i]))\n",
    "    weights[i]=weights[i]+ep\n",
    "print('dw_approx:',dw_approx,'\\n')\n",
    "print('gradient_check: ',gradient_check)"
   ]
  },
  {
   "cell_type": "code",
   "execution_count": 47,
   "metadata": {
    "colab": {},
    "colab_type": "code",
    "id": "l2vCVaUqcdW-",
    "outputId": "8f695908-300c-4f37-fa25-c989e7418045"
   },
   "outputs": [
    {
     "data": {
      "image/png": "[encoded data removed]",
      "text/plain": [
       "<Figure size 432x288 with 1 Axes>"
      ]
     },
     "metadata": {
      "needs_background": "light"
     },
     "output_type": "display_data"
    }
   ],
   "source": [
    "#Vanilla Update\n",
    "weights=np.random.normal(0, 0.1, size=(9))\n",
    "learning_rate=0.001\n",
    "loss=0\n",
    "epoch=100\n",
    "epoch_count=[]\n",
    "MSE=[]\n",
    "for j in (range(epoch)):\n",
    "    loss=0\n",
    "    for i in range(len(X)):\n",
    "        dloss,y_dash,exp_value,tanh_value,sigmoid_value=forward_propagation(X[i],Y[i],weights)\n",
    "        dw=backward_propagation(dloss,y_dash,exp_value,tanh_value,sigmoid_value,X[i],weights)\n",
    "        loss=loss+((Y[i]-y_dash)*(Y[i]-y_dash))\n",
    "        for k in range(len(weights)):\n",
    "            weights[k] = weights[k]-learning_rate*dw[k]\n",
    "    MSE.append(loss/2)\n",
    "    epoch_count.append(j)\n",
    "import matplotlib.pyplot as plt\n",
    "plt.plot(epoch_count, MSE,label='MSE VS Epoch')\n",
    "plt.legend()\n",
    "plt.xlabel(\"epoch_count\")\n",
    "plt.ylabel(\"MSE\")\n",
    "plt.title(\"MSE Vs Epoch\")\n",
    "plt.grid()\n",
    "plt.show()\n"
   ]
  },
  {
   "cell_type": "code",
   "execution_count": 49,
   "metadata": {
    "colab": {},
    "colab_type": "code",
    "id": "YWJXozwMcdXH",
    "outputId": "5be02cf9-b023-4918-cac3-0b8252fb3cca"
   },
   "outputs": [
    {
     "data": {
      "image/png": "[encoded data removed]",
      "text/plain": [
       "<Figure size 432x288 with 1 Axes>"
      ]
     },
     "metadata": {
      "needs_background": "light"
     },
     "output_type": "display_data"
    }
   ],
   "source": [
    "#Momentun Update:\n",
    "velocity=np.zeros(9,dtype=float)\n",
    "weights=np.random.normal(0, 0.1, size=(9))\n",
    "MSE=[]\n",
    "epoch_count=[]\n",
    "learning_rate=0.001\n",
    "gamma=0.9\n",
    "for j in (range(5)):\n",
    "    loss=0\n",
    "    for i in range(len(X)):\n",
    "        dloss,y_dash,exp_value,tanh_value,sigmoid_value=forward_propagation(X[i],Y[i],weights)\n",
    "        dw=backward_propagation(dloss,y_dash,exp_value,tanh_value,sigmoid_value,X[i],weights)\n",
    "        loss=loss+((Y[i]-y_dash)*(Y[i]-y_dash))\n",
    "        for k in range(len(weights)):\n",
    "            velocity[k] = (gamma * velocity[k]) + (learning_rate * dw[k])\n",
    "            weights[k] = weights[k]+velocity[k]\n",
    "    MSE.append(loss/2)\n",
    "    epoch_count.append(j)           \n",
    "            \n",
    "plt.plot(epoch_count, MSE,label='MSE VS Epoch')\n",
    "plt.legend()\n",
    "plt.xlabel(\"epoch_count\")\n",
    "plt.ylabel(\"MSE\")\n",
    "plt.title(\"MSE Vs Epoch\")\n",
    "plt.grid()\n",
    "plt.show()"
   ]
  },
  {
   "cell_type": "code",
   "execution_count": 50,
   "metadata": {
    "colab": {},
    "colab_type": "code",
    "id": "o6Apsxoocbnm",
    "outputId": "8feef131-8419-4c17-9e89-b81ab013beed"
   },
   "outputs": [
    {
     "data": {
      "image/png": "[encoded data removed]",
      "text/plain": [
       "<Figure size 432x288 with 1 Axes>"
      ]
     },
     "metadata": {
      "needs_background": "light"
     },
     "output_type": "display_data"
    }
   ],
   "source": [
    "M = np.zeros(9,dtype=float)\n",
    "R = np.zeros(9,dtype=float)\n",
    "beta1 = 0.9\n",
    "beta2 = 0.99\n",
    "weights=np.random.normal(0, 0.1, size=(9))\n",
    "learning_rate=0.001\n",
    "eps=0.0000001\n",
    "MSE=[]\n",
    "epoch_count=[]\n",
    "gamma=0.9\n",
    "for j in (range(100)):\n",
    "    j=j+1\n",
    "    loss=0\n",
    "    for i in range(len(X)):\n",
    "        dloss,y_dash,exp_value,tanh_value,sigmoid_value=forward_propagation(X[i],Y[i],weights)\n",
    "        dw=backward_propagation(dloss,y_dash,exp_value,tanh_value,sigmoid_value,X[i],weights)\n",
    "        loss=loss+((Y[i]-y_dash)*(Y[i]-y_dash))\n",
    "        for k in range(len(weights)):\n",
    "            M[k] =(beta1*M[k])+((1-beta1)*dw[k])\n",
    "            R[k] = (beta2*R[k])+((1-beta2)*dw[k]**2)\n",
    "            m_k_hat = M[k]/(1-beta2**(j))\n",
    "            r_k_hat = R[k] / (1 - beta2**(j))\n",
    "            weights[k] = weights[k] +(learning_rate * m_k_hat / (np.sqrt(r_k_hat) + eps))\n",
    "    MSE.append(loss/2)\n",
    "    epoch_count.append(j)\n",
    "plt.plot(epoch_count, MSE,label='MSE VS Epoch')\n",
    "plt.legend()\n",
    "plt.xlabel(\"epoch_count\")\n",
    "plt.ylabel(\"MSE\")\n",
    "plt.title(\"MSE Vs Epoch\")\n",
    "plt.grid()\n",
    "plt.show()        "
   ]
  },
  {
   "cell_type": "code",
   "execution_count": 0,
   "metadata": {
    "colab": {},
    "colab_type": "code",
    "id": "ZOf3EgKBgpKn"
   },
   "outputs": [],
   "source": []
  }
 ],
 "metadata": {
  "colab": {
   "name": "bpt.ipynb",
   "provenance": []
  },
  "kernelspec": {
   "display_name": "Python 3",
   "language": "python",
   "name": "python3"
  },
  "language_info": {
   "codemirror_mode": {
    "name": "ipython",
    "version": 3
   },
   "file_extension": ".py",
   "mimetype": "text/x-python",
   "name": "python",
   "nbconvert_exporter": "python",
   "pygments_lexer": "ipython3",
   "version": "3.7.3"
  }
 },
 "nbformat": 4,
 "nbformat_minor": 1
}

{
 "cells": [
  {
   "cell_type": "code",
   "execution_count": 2,
   "metadata": {},
   "outputs": [],
   "source": [
    "import numpy as np\n",
    "from sklearn.datasets import load_boston\n",
    "from sklearn.metrics import mean_squared_error\n",
    "from sklearn.model_selection import train_test_split\n",
    "from tqdm import tqdm"
   ]
  },
  {
   "cell_type": "code",
   "execution_count": 3,
   "metadata": {},
   "outputs": [],
   "source": [
    "boston = load_boston()\n",
    "x=boston.data #independent variables\n",
    "y=boston.target #target variable"
   ]
  },
  {
   "cell_type": "code",
   "execution_count": 5,
   "metadata": {},
   "outputs": [
    {
     "name": "stderr",
     "output_type": "stream",
     "text": [
      "100%|██████████████████████████████████████████████████████████████████████████████████| 35/35 [10:41<00:00, 18.95s/it]\n"
     ]
    }
   ],
   "source": [
    "#=============================================================================================================================#        \n",
    "#                                                   TASK-1                                                                    #\n",
    "#=============================================================================================================================#\n",
    "#=============================================================================================================================#        \n",
    "#    Step-1                                                                                                                   #\n",
    "#=============================================================================================================================#\n",
    "#creating 30 samples from the whole boston data points.\n",
    "Y_MSE_LIST=[]\n",
    "Y_OOB_LIST=[]\n",
    "Y_MSE_LIST_SKT=[]\n",
    "for T in tqdm(range(35)):\n",
    "    T=T+1\n",
    "    col=np.arange(13)\n",
    "    x_num=np.arange(len(x))\n",
    "    y_num=np.arange(len(y))\n",
    "    col_set=[]\n",
    "    X_train=[]\n",
    "    for i in range(30):\n",
    "        i=i+1\n",
    "    #randomly choosing different feature for each sample\n",
    "        col_list=np.random.choice(col,6,replace=False)\n",
    "        col_sort=np.sort(col_list)\n",
    "        col_set.append(col_sort)\n",
    "\n",
    "        X_set_60=np.random.choice(x_num,304,replace=False)#selecting 60% data\n",
    "        X_set_40=np.random.choice(X_set_60,202,replace=False)#selecting 40%data from 60%data\n",
    "    #addiing up the 60% and 40% values\n",
    "        X_set_final=np.hstack((X_set_60,X_set_60))\n",
    "        X_set_final=np.sort(X_set_final)\n",
    "    #Corpus of 30 samples\n",
    "        X_train.append(X_set_final)\n",
    "#=============================================================================================================================#        \n",
    "#    Step-2                                                                                                                   #\n",
    "#=============================================================================================================================#\n",
    "\n",
    "    from sklearn.tree import DecisionTreeRegressor\n",
    "    clf=DecisionTreeRegressor()\n",
    "    y_pred=[]\n",
    "    y_pred_test=[]\n",
    "    \n",
    "    #y_pred corpus\n",
    "    for i in range(30):\n",
    "        y_total_pred=[]\n",
    "        clf.fit(x[:,col_set[i]][X_train[i]], y[X_train[i]])\n",
    "        y_pred.append(clf.predict(x[:,col_set[i]]))\n",
    "    #computing Average y_pre value    \n",
    "    y_sum=y_pred[0]\n",
    "    for j in range(len(y_pred)):\n",
    "        y_sum=+np.add(y_sum,y_pred[j])\n",
    "    y_pred_avg=np.true_divide(y_sum, 30)\n",
    "    #computing MSE:\n",
    "    from sklearn.metrics import mean_squared_error as mse\n",
    "    y_mse_scikit=mse(y_pred_avg,y)#using scikit\n",
    "    #print(y_mse_scikit)\n",
    "    Y_MSE_LIST_SKT.append(round(y_mse_scikit,2))\n",
    "    y_mse=np.subtract(y,y_pred_avg)#y-y_pred\n",
    "    y_mse_sqr=np.square(y_mse)#squaring the diff\n",
    "    y_mse_sum=0\n",
    "    for i in range(len(y_mse_sqr)):\n",
    "        y_mse_sum=y_mse_sum+y_mse_sqr[i]       \n",
    "    y_mse_final=y_mse_sum/len(y_mse_sqr)\n",
    "    #print(y_mse_final)\n",
    "    Y_MSE_LIST.append(round(y_mse_final,2))\n",
    "    \n",
    "#=============================================================================================================================#        \n",
    "#    Step-3                                                                                                                   #\n",
    "#=============================================================================================================================#\n",
    "\n",
    "    y_pred_oob=[]\n",
    "    countp=[]\n",
    "\n",
    "    X_trains=np.asarray(X_train)\n",
    "    for i in range(len(x)):\n",
    "        count=0\n",
    "        sum1=0\n",
    "        for j in range(30): \n",
    "            #print(i,j)\n",
    "            if i not in X_train[j]:\n",
    "                #print(i,j)\n",
    "                count=count+1\n",
    "                #print(count)\n",
    "                clf.fit(x[:,col_set[j]][X_train[j]], y[X_train[j]])\n",
    "                sum1=sum1+clf.predict((x[:,col_set[0]][0].reshape(1,-1)))\n",
    "        y_pred_oob.extend(sum1/count) \n",
    "    \n",
    "#computing OOB SCORE:\n",
    "    y_oob=np.subtract(y,y_pred_oob)#y-y_pred_oob\n",
    "    y_oob_sqr=np.square(y_oob)#squaring the diff\n",
    "    y_oob_sum=0\n",
    "#print(y_oob_sqr)\n",
    "    for i in range(len(y_oob_sqr)):\n",
    "        y_oob_sum=y_oob_sum+y_oob_sqr[i] \n",
    "    y_oob_final=y_oob_sum/(len(y_oob_sqr))\n",
    "    #print((y_oob_final))\n",
    "    Y_OOB_LIST.append(round(y_oob_final,2))\n",
    "\n"
   ]
  },
  {
   "cell_type": "code",
   "execution_count": 6,
   "metadata": {},
   "outputs": [
    {
     "name": "stdout",
     "output_type": "stream",
     "text": [
      "y_mse values through sklearn Y_MSE_LIST_SKT:\n",
      " [2.73, 2.52, 3.09, 2.42, 3.21, 2.71, 2.81, 3.69, 2.52, 2.65, 2.64, 3.1, 2.78, 2.72, 3.32, 2.94, 2.83, 2.55, 2.89, 2.62, 3.03, 2.71, 2.69, 2.49, 2.46, 2.82, 2.83, 2.67, 3.07, 2.84, 2.91, 2.56, 3.23, 2.65, 2.6]\n",
      "\n",
      "MSE values calculated:\n",
      " [2.73, 2.52, 3.09, 2.42, 3.21, 2.71, 2.81, 3.69, 2.52, 2.65, 2.64, 3.1, 2.78, 2.72, 3.32, 2.94, 2.83, 2.55, 2.89, 2.62, 3.03, 2.71, 2.69, 2.49, 2.46, 2.82, 2.83, 2.67, 3.07, 2.84, 2.91, 2.56, 3.23, 2.65, 2.6]\n",
      "\n",
      "OOB_values:\n",
      " [172.46, 155.52, 169.05, 128.0, 95.99, 214.9, 91.75, 118.5, 191.06, 165.18, 123.23, 90.21, 104.72, 97.95, 94.51, 119.0, 96.34, 88.51, 165.79, 105.59, 95.46, 132.46, 89.58, 93.9, 117.79, 182.43, 169.45, 101.75, 171.05, 133.43, 95.13, 91.79, 145.98, 88.16, 131.57]\n"
     ]
    }
   ],
   "source": [
    "print('y_mse values through sklearn Y_MSE_LIST_SKT:\\n',Y_MSE_LIST_SKT)\n",
    "print('\\nMSE values calculated:\\n',Y_MSE_LIST)\n",
    "print('\\nOOB_values:\\n',Y_OOB_LIST)"
   ]
  },
  {
   "cell_type": "code",
   "execution_count": 7,
   "metadata": {},
   "outputs": [
    {
     "name": "stdout",
     "output_type": "stream",
     "text": [
      "y_mse_mean= 2.8085714285714287\n",
      "y_oob_mean= 126.51971428571429\n",
      "y_mse_stdev= 0.27597040396670475\n",
      "y_oob_stdev= 35.83530066073645\n",
      "CI_MSE_LOWER= 2.7152764041347854\n",
      "CI_MSE_UPPER= 2.901866453008072\n",
      "CI_OOB_LOWER= 114.40517155655547\n",
      "CI_OOB_UPPER= 138.6342570148731\n"
     ]
    }
   ],
   "source": [
    "#=============================================================================================================================#        \n",
    "#                                                     TASK-2                                                                  #\n",
    "#=============================================================================================================================#\n",
    "#Calculating Cinfidence Interval:\n",
    "import statistics as stat\n",
    "import math\n",
    "y_mse_mean=stat.mean(Y_MSE_LIST)\n",
    "y_oob_mean=stat.mean(Y_OOB_LIST)\n",
    "y_mse_stdev=stat.stdev(Y_MSE_LIST)\n",
    "y_oob_stdev=stat.stdev(Y_OOB_LIST)\n",
    "print('y_mse_mean=',y_mse_mean)\n",
    "print('y_oob_mean=',y_oob_mean)\n",
    "print('y_mse_stdev=',y_mse_stdev)\n",
    "print('y_oob_stdev=',y_oob_stdev)\n",
    "\n",
    "n=len(Y_MSE_LIST)\n",
    "CI_MSE_LOWER=(y_mse_mean-((2*y_mse_stdev)/(math.sqrt(n))))\n",
    "CI_MSE_UPPER=(y_mse_mean+((2*y_mse_stdev)/(math.sqrt(n))))\n",
    "CI_OOB_LOWER=(y_oob_mean-((2*y_oob_stdev)/(math.sqrt(n))))\n",
    "CI_OOB_UPPER=(y_oob_mean+((2*y_oob_stdev)/(math.sqrt(n))))\n",
    "#printing the values\n",
    "print('CI_MSE_LOWER=',CI_MSE_LOWER)\n",
    "print('CI_MSE_UPPER=',CI_MSE_UPPER)\n",
    "print('CI_OOB_LOWER=',CI_OOB_LOWER)\n",
    "print('CI_OOB_UPPER=',CI_OOB_UPPER)"
   ]
  },
  {
   "cell_type": "code",
   "execution_count": 19,
   "metadata": {},
   "outputs": [
    {
     "name": "stdout",
     "output_type": "stream",
     "text": [
      "Predicted Home price for the given datapoint: 20.3\n"
     ]
    }
   ],
   "source": [
    "#=============================================================================================================================#        \n",
    "#                                                     TASK-3                                                                  #\n",
    "#=============================================================================================================================#\n",
    "\n",
    "#Calculate price of house for given X point:\n",
    "\n",
    "xq= [0.18,20.0,5.00,0.0,0.421,5.60,72.2,7.95,7.0,30.0,19.1,372.13,18.60]\n",
    "xq=np.array(xq)\n",
    "xq=xq.reshape(1,-1)\n",
    "xq\n",
    "y_pdt=[]\n",
    "for i in range(30):\n",
    "    y_total_pred=[]\n",
    "    clf.fit(x[:,col_set[i]][X_train[i]], y[X_train[i]])\n",
    "    y_pdt.append(clf.predict(xq[:,col_set[i]]))\n",
    "#computing Average y_ptd value    \n",
    "y_sum=0\n",
    "for j in range(len(y_pdt)):\n",
    "    y_sum=y_sum+y_pdt[j]\n",
    "y_pdt_avg=y_sum/30\n",
    "y_pdt_avg=round(float(y_pdt_avg),2)\n",
    "print('Predicted Home price for the given datapoint:',y_pdt_avg)"
   ]
  }
 ],
 "metadata": {
  "kernelspec": {
   "display_name": "Python 3",
   "language": "python",
   "name": "python3"
  },
  "language_info": {
   "codemirror_mode": {
    "name": "ipython",
    "version": 3
   },
   "file_extension": ".py",
   "mimetype": "text/x-python",
   "name": "python",
   "nbconvert_exporter": "python",
   "pygments_lexer": "ipython3",
   "version": "3.7.1"
  }
 },
 "nbformat": 4,
 "nbformat_minor": 2
}

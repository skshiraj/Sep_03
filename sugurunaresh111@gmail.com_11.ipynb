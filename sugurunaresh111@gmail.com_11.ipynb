{
 "cells": [
  {
   "cell_type": "code",
   "execution_count": 1,
   "metadata": {},
   "outputs": [],
   "source": [
    "import numpy as np\n",
    "from sklearn.datasets import load_boston\n",
    "from sklearn.metrics import mean_squared_error\n",
    "from sklearn.model_selection import train_test_split\n",
    "from tqdm import tqdm"
   ]
  },
  {
   "cell_type": "code",
   "execution_count": 2,
   "metadata": {},
   "outputs": [],
   "source": [
    "boston = load_boston()\n",
    "x=boston.data #independent variables\n",
    "y=boston.target #target variable"
   ]
  },
  {
   "cell_type": "code",
   "execution_count": 3,
   "metadata": {},
   "outputs": [
    {
     "name": "stderr",
     "output_type": "stream",
     "text": [
      "\r",
      "  0%|                                                                                           | 0/35 [00:00<?, ?it/s]"
     ]
    },
    {
     "name": "stdout",
     "output_type": "stream",
     "text": [
      "2.8226815741960647\n",
      "109.44575275361338\n"
     ]
    },
    {
     "name": "stderr",
     "output_type": "stream",
     "text": [
      "\r",
      "  3%|██▎                                                                                | 1/35 [00:11<06:40, 11.78s/it]"
     ]
    },
    {
     "name": "stdout",
     "output_type": "stream",
     "text": [
      "2.8371700428194995\n",
      "105.72018705309998\n"
     ]
    },
    {
     "name": "stderr",
     "output_type": "stream",
     "text": [
      "\r",
      "  6%|████▋                                                                              | 2/35 [00:21<06:12, 11.29s/it]"
     ]
    },
    {
     "name": "stdout",
     "output_type": "stream",
     "text": [
      "3.0322903643927184\n",
      "91.4934214818059\n"
     ]
    },
    {
     "name": "stderr",
     "output_type": "stream",
     "text": [
      "\r",
      "  9%|███████                                                                            | 3/35 [00:31<05:47, 10.87s/it]"
     ]
    },
    {
     "name": "stdout",
     "output_type": "stream",
     "text": [
      "2.6530510588981624\n",
      "92.01505040476457\n"
     ]
    },
    {
     "name": "stderr",
     "output_type": "stream",
     "text": [
      "\r",
      " 11%|█████████▍                                                                         | 4/35 [00:42<05:32, 10.71s/it]"
     ]
    },
    {
     "name": "stdout",
     "output_type": "stream",
     "text": [
      "2.8109942907334236\n",
      "87.71714019559087\n"
     ]
    },
    {
     "name": "stderr",
     "output_type": "stream",
     "text": [
      "\r",
      " 14%|███████████▊                                                                       | 5/35 [00:52<05:18, 10.60s/it]"
     ]
    },
    {
     "name": "stdout",
     "output_type": "stream",
     "text": [
      "3.043348315243033\n",
      "109.99436144849496\n"
     ]
    },
    {
     "name": "stderr",
     "output_type": "stream",
     "text": [
      "\r",
      " 17%|██████████████▏                                                                    | 6/35 [01:02<04:59, 10.34s/it]"
     ]
    },
    {
     "name": "stdout",
     "output_type": "stream",
     "text": [
      "2.7628805903507887\n",
      "88.38816226162065\n"
     ]
    },
    {
     "name": "stderr",
     "output_type": "stream",
     "text": [
      "\r",
      " 20%|████████████████▌                                                                  | 7/35 [01:12<04:50, 10.37s/it]"
     ]
    },
    {
     "name": "stdout",
     "output_type": "stream",
     "text": [
      "2.6090724290379868\n",
      "115.14516869434539\n"
     ]
    },
    {
     "name": "stderr",
     "output_type": "stream",
     "text": [
      "\r",
      " 23%|██████████████████▉                                                                | 8/35 [01:22<04:38, 10.31s/it]"
     ]
    },
    {
     "name": "stdout",
     "output_type": "stream",
     "text": [
      "2.9977463367521198\n",
      "97.59843130097086\n"
     ]
    },
    {
     "name": "stderr",
     "output_type": "stream",
     "text": [
      "\r",
      " 26%|█████████████████████▎                                                             | 9/35 [01:32<04:26, 10.25s/it]"
     ]
    },
    {
     "name": "stdout",
     "output_type": "stream",
     "text": [
      "3.022065549062549\n",
      "188.3213412590634\n"
     ]
    },
    {
     "name": "stderr",
     "output_type": "stream",
     "text": [
      "\r",
      " 29%|███████████████████████▍                                                          | 10/35 [01:43<04:16, 10.24s/it]"
     ]
    },
    {
     "name": "stdout",
     "output_type": "stream",
     "text": [
      "3.0101576254807516\n",
      "111.87545249536471\n"
     ]
    },
    {
     "name": "stderr",
     "output_type": "stream",
     "text": [
      "\r",
      " 31%|█████████████████████████▊                                                        | 11/35 [01:53<04:04, 10.20s/it]"
     ]
    },
    {
     "name": "stdout",
     "output_type": "stream",
     "text": [
      "2.8804917526955447\n",
      "291.4927141313728\n"
     ]
    },
    {
     "name": "stderr",
     "output_type": "stream",
     "text": [
      "\r",
      " 34%|████████████████████████████                                                      | 12/35 [02:03<03:53, 10.17s/it]"
     ]
    },
    {
     "name": "stdout",
     "output_type": "stream",
     "text": [
      "2.7563224660615844\n",
      "102.87951124032931\n"
     ]
    },
    {
     "name": "stderr",
     "output_type": "stream",
     "text": [
      "\r",
      " 37%|██████████████████████████████▍                                                   | 13/35 [02:13<03:43, 10.15s/it]"
     ]
    },
    {
     "name": "stdout",
     "output_type": "stream",
     "text": [
      "2.7504316569937544\n",
      "93.49112124587998\n"
     ]
    },
    {
     "name": "stderr",
     "output_type": "stream",
     "text": [
      "\r",
      " 40%|████████████████████████████████▊                                                 | 14/35 [02:24<03:36, 10.29s/it]"
     ]
    },
    {
     "name": "stdout",
     "output_type": "stream",
     "text": [
      "2.8631689136260587\n",
      "109.12647422406454\n"
     ]
    },
    {
     "name": "stderr",
     "output_type": "stream",
     "text": [
      "\r",
      " 43%|███████████████████████████████████▏                                              | 15/35 [02:34<03:25, 10.29s/it]"
     ]
    },
    {
     "name": "stdout",
     "output_type": "stream",
     "text": [
      "2.7664037742220606\n",
      "111.80675307643793\n"
     ]
    },
    {
     "name": "stderr",
     "output_type": "stream",
     "text": [
      "\r",
      " 46%|█████████████████████████████████████▍                                            | 16/35 [02:44<03:13, 10.20s/it]"
     ]
    },
    {
     "name": "stdout",
     "output_type": "stream",
     "text": [
      "2.6334109012833657\n",
      "100.11211302991347\n"
     ]
    },
    {
     "name": "stderr",
     "output_type": "stream",
     "text": [
      "\r",
      " 49%|███████████████████████████████████████▊                                          | 17/35 [02:54<03:04, 10.25s/it]"
     ]
    },
    {
     "name": "stdout",
     "output_type": "stream",
     "text": [
      "2.991892295272557\n",
      "107.137665694452\n"
     ]
    },
    {
     "name": "stderr",
     "output_type": "stream",
     "text": [
      "\r",
      " 51%|██████████████████████████████████████████▏                                       | 18/35 [03:05<02:57, 10.45s/it]"
     ]
    },
    {
     "name": "stdout",
     "output_type": "stream",
     "text": [
      "2.8677289747306816\n",
      "99.23648027598281\n"
     ]
    },
    {
     "name": "stderr",
     "output_type": "stream",
     "text": [
      "\r",
      " 54%|████████████████████████████████████████████▌                                     | 19/35 [03:15<02:44, 10.26s/it]"
     ]
    },
    {
     "name": "stdout",
     "output_type": "stream",
     "text": [
      "2.820520054904963\n",
      "94.3596010363247\n"
     ]
    },
    {
     "name": "stderr",
     "output_type": "stream",
     "text": [
      "\r",
      " 57%|██████████████████████████████████████████████▊                                   | 20/35 [03:24<02:27,  9.80s/it]"
     ]
    },
    {
     "name": "stdout",
     "output_type": "stream",
     "text": [
      "2.7003373920830445\n",
      "202.71597629218314\n"
     ]
    },
    {
     "name": "stderr",
     "output_type": "stream",
     "text": [
      "\r",
      " 60%|█████████████████████████████████████████████████▏                                | 21/35 [03:32<02:11,  9.38s/it]"
     ]
    },
    {
     "name": "stdout",
     "output_type": "stream",
     "text": [
      "2.8271367323360526\n",
      "187.10552357624508\n"
     ]
    },
    {
     "name": "stderr",
     "output_type": "stream",
     "text": [
      "\r",
      " 63%|███████████████████████████████████████████████████▌                              | 22/35 [03:41<01:58,  9.15s/it]"
     ]
    },
    {
     "name": "stdout",
     "output_type": "stream",
     "text": [
      "3.0796004479315564\n",
      "87.15121785747563\n"
     ]
    },
    {
     "name": "stderr",
     "output_type": "stream",
     "text": [
      "\r",
      " 66%|█████████████████████████████████████████████████████▉                            | 23/35 [03:49<01:46,  8.85s/it]"
     ]
    },
    {
     "name": "stdout",
     "output_type": "stream",
     "text": [
      "2.7892506781596564\n",
      "209.6287217933221\n"
     ]
    },
    {
     "name": "stderr",
     "output_type": "stream",
     "text": [
      "\r",
      " 69%|████████████████████████████████████████████████████████▏                         | 24/35 [03:57<01:35,  8.65s/it]"
     ]
    },
    {
     "name": "stdout",
     "output_type": "stream",
     "text": [
      "2.460090975894209\n",
      "125.61964135497007\n"
     ]
    },
    {
     "name": "stderr",
     "output_type": "stream",
     "text": [
      "\r",
      " 71%|██████████████████████████████████████████████████████████▌                       | 25/35 [04:06<01:25,  8.60s/it]"
     ]
    },
    {
     "name": "stdout",
     "output_type": "stream",
     "text": [
      "2.645089043527055\n",
      "92.08682954989557\n"
     ]
    },
    {
     "name": "stderr",
     "output_type": "stream",
     "text": [
      "\r",
      " 74%|████████████████████████████████████████████████████████████▉                     | 26/35 [04:14<01:16,  8.55s/it]"
     ]
    },
    {
     "name": "stdout",
     "output_type": "stream",
     "text": [
      "2.6485070849732666\n",
      "146.23483691929073\n"
     ]
    },
    {
     "name": "stderr",
     "output_type": "stream",
     "text": [
      "\r",
      " 77%|███████████████████████████████████████████████████████████████▎                  | 27/35 [04:23<01:08,  8.62s/it]"
     ]
    },
    {
     "name": "stdout",
     "output_type": "stream",
     "text": [
      "2.829959120576374\n",
      "188.54328342232466\n"
     ]
    },
    {
     "name": "stderr",
     "output_type": "stream",
     "text": [
      "\r",
      " 80%|█████████████████████████████████████████████████████████████████▌                | 28/35 [04:32<01:00,  8.67s/it]"
     ]
    },
    {
     "name": "stdout",
     "output_type": "stream",
     "text": [
      "2.768169714355036\n",
      "99.87314768594743\n"
     ]
    },
    {
     "name": "stderr",
     "output_type": "stream",
     "text": [
      "\r",
      " 83%|███████████████████████████████████████████████████████████████████▉              | 29/35 [04:42<00:54,  9.16s/it]"
     ]
    },
    {
     "name": "stdout",
     "output_type": "stream",
     "text": [
      "2.693404979251249\n",
      "286.8751034111782\n"
     ]
    },
    {
     "name": "stderr",
     "output_type": "stream",
     "text": [
      "\r",
      " 86%|██████████████████████████████████████████████████████████████████████▎           | 30/35 [04:51<00:46,  9.30s/it]"
     ]
    },
    {
     "name": "stdout",
     "output_type": "stream",
     "text": [
      "2.785721988153217\n",
      "100.8254758627385\n"
     ]
    },
    {
     "name": "stderr",
     "output_type": "stream",
     "text": [
      "\r",
      " 89%|████████████████████████████████████████████████████████████████████████▋         | 31/35 [05:01<00:36,  9.24s/it]"
     ]
    },
    {
     "name": "stdout",
     "output_type": "stream",
     "text": [
      "2.766239033896398\n",
      "102.4709943168567\n"
     ]
    },
    {
     "name": "stderr",
     "output_type": "stream",
     "text": [
      "\r",
      " 91%|██████████████████████████████████████████████████████████████████████████▉       | 32/35 [05:09<00:27,  9.02s/it]"
     ]
    },
    {
     "name": "stdout",
     "output_type": "stream",
     "text": [
      "2.4631034482911645\n",
      "90.4327413591399\n"
     ]
    },
    {
     "name": "stderr",
     "output_type": "stream",
     "text": [
      "\r",
      " 94%|█████████████████████████████████████████████████████████████████████████████▎    | 33/35 [05:18<00:17,  8.92s/it]"
     ]
    },
    {
     "name": "stdout",
     "output_type": "stream",
     "text": [
      "2.608633764061674\n",
      "93.92794934645777\n"
     ]
    },
    {
     "name": "stderr",
     "output_type": "stream",
     "text": [
      "\r",
      " 97%|███████████████████████████████████████████████████████████████████████████████▋  | 34/35 [05:27<00:08,  8.87s/it]"
     ]
    },
    {
     "name": "stdout",
     "output_type": "stream",
     "text": [
      "2.5875328747460995\n",
      "232.58680827844404\n"
     ]
    },
    {
     "name": "stderr",
     "output_type": "stream",
     "text": [
      "100%|██████████████████████████████████████████████████████████████████████████████████| 35/35 [05:35<00:00,  8.76s/it]\n"
     ]
    }
   ],
   "source": [
    "#Step-1\n",
    "#creating 30 samples from the whole boston data points.\n",
    "Y_MSE_LIST=[]\n",
    "Y_OOB_LIST=[]\n",
    "for T in tqdm(range(35)):\n",
    "    T=T+1\n",
    "    col=np.arange(13)\n",
    "    x_num=np.arange(len(x))\n",
    "    y_num=np.arange(len(y))\n",
    "    col_set=[]\n",
    "    X_train=[]\n",
    "    X_test=[]\n",
    "    Y_train=[]\n",
    "    Y_test=[]\n",
    "    col_train_set=[]\n",
    "    for i in range(30):\n",
    "        i=i+1\n",
    "    #randomly choosing different feature for each sample\n",
    "        col_train, col_ignore= train_test_split(col, test_size=0.50,random_state=2*i*T)\n",
    "        col_train=np.sort(col_train)\n",
    "        col_train_set.append(col_train)\n",
    "    #X=x[:,col_train]\n",
    "        X_tr0, X_te0, y_tr0, y_te0 = train_test_split(x_num, y_num, test_size=0.40,random_state=3*i*T) #60% of x data\n",
    "        X_tr1, X_te1, y_tr1, y_te1 = train_test_split(X_tr0, y_tr0, test_size=0.33,random_state=2*i*T) #taking 40%of data from x_train(60% of x)\n",
    "    #addiing up the 60% and 40% values\n",
    "        X_tr_final=np.hstack((X_tr0,X_tr1))\n",
    "        y_tr_final=np.hstack((y_tr0,y_tr1))\n",
    "    #Corpus of 30 samples\n",
    "        X_train.append(X_tr_final)\n",
    "        X_test.append(X_te0)\n",
    "        Y_train.append(y_tr_final)\n",
    "        Y_test.append(y_te0)\n",
    "        \n",
    "#==============================================================================================================================        \n",
    "    #Step-2\n",
    "    from sklearn.tree import DecisionTreeRegressor\n",
    "    clf=DecisionTreeRegressor()\n",
    "    y_train_pred=[]\n",
    "    y_test_pred=[]\n",
    "    y_pred=[]\n",
    "    y_pred_test=[]\n",
    "    #y_pred corpus\n",
    "    for i in range(30):\n",
    "        y_total_pred=[]\n",
    "        clf.fit(x[:,col_train_set[i]][X_train[i]], y[Y_train[i]])\n",
    "        y_pred.append(clf.predict(x[:,col_train_set[i]]))\n",
    "#computing Average y_pre value    \n",
    "    y_sum=y_pred[0]\n",
    "    for j in range(len(y_pred)):\n",
    "        y_sum=+np.add(y_sum,y_pred[j])\n",
    "    y_pred_avg=np.true_divide(y_sum, 30)\n",
    "#computing MSE:\n",
    "    y_mse=np.subtract(y,y_pred_avg)#y-y_pred\n",
    "    y_mse_sqr=np.square(y_mse)#squaring the diff\n",
    "    y_mse_sum=0\n",
    "    for i in range(len(y_mse_sqr)):\n",
    "        y_mse_sum=y_mse_sum+y_mse_sqr[i]       \n",
    "    y_mse_final=y_mse_sum/len(y_mse_sqr)\n",
    "    print(y_mse_final)\n",
    "    Y_MSE_LIST.append(y_mse_final)\n",
    "#============================================================================================================================\n",
    "    #Step-3:\n",
    "    y_pred_oob=[]\n",
    "    countp=[]\n",
    "\n",
    "    X_trains=np.asarray(X_train)\n",
    "    for i in range(len(x)):\n",
    "        count=0\n",
    "        sum1=0\n",
    "        for j in range(30): \n",
    "            #print(i,j)\n",
    "            if i in X_test[j]:\n",
    "                #print(i,j)\n",
    "                count=count+1\n",
    "                #print(count)\n",
    "                clf.fit(x[:,col_train_set[j]][X_train[j]], y[Y_train[j]])\n",
    "                sum1=sum1+clf.predict((x[:,col_train_set[0]][0].reshape(1,-1)))\n",
    "        y_pred_oob.extend(sum1/count) \n",
    "    \n",
    "#computing OOB SCORE:\n",
    "    y_oob=np.subtract(y,y_pred_oob)#y-y_pred_oob\n",
    "    y_oob_sqr=np.square(y_oob)#squaring the diff\n",
    "    y_oob_sum=0\n",
    "#print(y_oob_sqr)\n",
    "    for i in range(len(y_oob_sqr)):\n",
    "        y_oob_sum=y_oob_sum+y_oob_sqr[i] \n",
    "    y_oob_final=y_oob_sum/(len(y_oob_sqr))\n",
    "    print((y_oob_final))\n",
    "    Y_OOB_LIST.append(y_oob_final)"
   ]
  },
  {
   "cell_type": "code",
   "execution_count": 4,
   "metadata": {},
   "outputs": [
    {
     "data": {
      "text/plain": [
       "[109.44575275361338,\n",
       " 105.72018705309998,\n",
       " 91.4934214818059,\n",
       " 92.01505040476457,\n",
       " 87.71714019559087,\n",
       " 109.99436144849496,\n",
       " 88.38816226162065,\n",
       " 115.14516869434539,\n",
       " 97.59843130097086,\n",
       " 188.3213412590634,\n",
       " 111.87545249536471,\n",
       " 291.4927141313728,\n",
       " 102.87951124032931,\n",
       " 93.49112124587998,\n",
       " 109.12647422406454,\n",
       " 111.80675307643793,\n",
       " 100.11211302991347,\n",
       " 107.137665694452,\n",
       " 99.23648027598281,\n",
       " 94.3596010363247,\n",
       " 202.71597629218314,\n",
       " 187.10552357624508,\n",
       " 87.15121785747563,\n",
       " 209.6287217933221,\n",
       " 125.61964135497007,\n",
       " 92.08682954989557,\n",
       " 146.23483691929073,\n",
       " 188.54328342232466,\n",
       " 99.87314768594743,\n",
       " 286.8751034111782,\n",
       " 100.8254758627385,\n",
       " 102.4709943168567,\n",
       " 90.4327413591399,\n",
       " 93.92794934645777,\n",
       " 232.58680827844404]"
      ]
     },
     "execution_count": 4,
     "metadata": {},
     "output_type": "execute_result"
    }
   ],
   "source": [
    "Y_OOB_LIST"
   ]
  },
  {
   "cell_type": "code",
   "execution_count": 5,
   "metadata": {},
   "outputs": [],
   "source": [
    "import statistics as stat\n",
    "y_mse_mean=stat.mean(Y_MSE_LIST)\n",
    "y_oob_mean=stat.mean(Y_OOB_LIST)\n",
    "y_mse_stdev=stat.stdev(Y_MSE_LIST)\n",
    "y_oob_stdev=stat.stdev(Y_OOB_LIST)"
   ]
  },
  {
   "cell_type": "code",
   "execution_count": 6,
   "metadata": {},
   "outputs": [
    {
     "name": "stdout",
     "output_type": "stream",
     "text": [
      "y_mse_mean= 2.7881316069998205\n",
      "y_oob_mean= 130.09814726657032\n",
      "y_mse_stdev= 0.15803423989494064\n",
      "y_oob_stdev= 56.30667683715864\n"
     ]
    }
   ],
   "source": [
    "print('y_mse_mean=',y_mse_mean)\n",
    "print('y_oob_mean=',y_oob_mean)\n",
    "print('y_mse_stdev=',y_mse_stdev)\n",
    "print('y_oob_stdev=',y_oob_stdev)"
   ]
  },
  {
   "cell_type": "code",
   "execution_count": 7,
   "metadata": {},
   "outputs": [],
   "source": [
    "#Calculating Confidence INterval:\n",
    "import math\n",
    "n=len(Y_MSE_LIST)\n",
    "CI_MSE_LOWER=(y_mse_mean-((2*y_mse_stdev)/(math.sqrt(n))))\n",
    "CI_MSE_UPPER=(y_mse_mean+((2*y_mse_stdev)/(math.sqrt(n))))\n",
    "CI_OOB_LOWER=(y_oob_mean-((2*y_oob_stdev)/(math.sqrt(n))))\n",
    "CI_OOB_UPPER=(y_oob_mean+((2*y_oob_stdev)/(math.sqrt(n))))"
   ]
  },
  {
   "cell_type": "code",
   "execution_count": 8,
   "metadata": {},
   "outputs": [
    {
     "name": "stdout",
     "output_type": "stream",
     "text": [
      "CI_MSE_LOWER= 2.7347062829038222\n",
      "CI_MSE_UPPER= 2.841556931095819\n",
      "CI_OOB_LOWER= 111.06301626715103\n",
      "CI_OOB_UPPER= 149.13327826598962\n"
     ]
    }
   ],
   "source": [
    "print('CI_MSE_LOWER=',CI_MSE_LOWER)\n",
    "print('CI_MSE_UPPER=',CI_MSE_UPPER)\n",
    "print('CI_OOB_LOWER=',CI_OOB_LOWER)\n",
    "print('CI_OOB_UPPER=',CI_OOB_UPPER)"
   ]
  },
  {
   "cell_type": "code",
   "execution_count": 42,
   "metadata": {},
   "outputs": [
    {
     "data": {
      "text/plain": [
       "array([20.52])"
      ]
     },
     "execution_count": 42,
     "metadata": {},
     "output_type": "execute_result"
    }
   ],
   "source": [
    "#TASK-3:\n",
    "\n",
    "#Calculate price of house for given X:\n",
    "\n",
    "xq= [0.18,20.0,5.00,0.0,0.421,5.60,72.2,7.95,7.0,30.0,19.1,372.13,18.60]\n",
    "xq=np.array(xq)\n",
    "xq=xq.reshape(1,-1)\n",
    "xq\n",
    "y_pdt=[]\n",
    "for i in range(30):\n",
    "    y_total_pred=[]\n",
    "    clf.fit(x[:,col_train_set[i]][X_train[i]], y[Y_train[i]])\n",
    "    y_pdt.append(clf.predict(xq[:,col_train_set[i]]))\n",
    "#computing Average y_ptd value    \n",
    "y_sum=0\n",
    "for j in range(len(y_pdt)):\n",
    "    y_sum=y_sum+y_pdt[j]\n",
    "y_pdt_avg=y_sum/30\n",
    "y_pdt_avg"
   ]
  },
  {
   "cell_type": "code",
   "execution_count": null,
   "metadata": {},
   "outputs": [],
   "source": []
  }
 ],
 "metadata": {
  "kernelspec": {
   "display_name": "Python 3",
   "language": "python",
   "name": "python3"
  },
  "language_info": {
   "codemirror_mode": {
    "name": "ipython",
    "version": 3
   },
   "file_extension": ".py",
   "mimetype": "text/x-python",
   "name": "python",
   "nbconvert_exporter": "python",
   "pygments_lexer": "ipython3",
   "version": "3.7.3"
  }
 },
 "nbformat": 4,
 "nbformat_minor": 2
}

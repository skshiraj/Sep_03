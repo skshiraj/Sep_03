{
 "cells": [
  {
   "cell_type": "code",
   "execution_count": 1,
   "metadata": {},
   "outputs": [],
   "source": [
    "import numpy as np\n",
    "from sklearn.datasets import load_boston\n",
    "from sklearn.metrics import mean_squared_error\n",
    "from sklearn.model_selection import train_test_split\n",
    "from tqdm import tqdm"
   ]
  },
  {
   "cell_type": "code",
   "execution_count": 2,
   "metadata": {},
   "outputs": [],
   "source": [
    "boston = load_boston()\n",
    "x=boston.data #independent variables\n",
    "y=boston.target #target variable"
   ]
  },
  {
   "cell_type": "code",
   "execution_count": 3,
   "metadata": {},
   "outputs": [
    {
     "name": "stderr",
     "output_type": "stream",
     "text": [
      "\r",
      "  0%|                                                                                           | 0/35 [00:00<?, ?it/s]"
     ]
    },
    {
     "name": "stdout",
     "output_type": "stream",
     "text": [
      "2.766804824877607\n",
      "158.25782561486665\n"
     ]
    },
    {
     "name": "stderr",
     "output_type": "stream",
     "text": [
      "\r",
      "  3%|██▎                                                                                | 1/35 [00:12<06:48, 12.03s/it]"
     ]
    },
    {
     "name": "stdout",
     "output_type": "stream",
     "text": [
      "2.7479261344345507\n"
     ]
    },
    {
     "ename": "KeyboardInterrupt",
     "evalue": "",
     "output_type": "error",
     "traceback": [
      "\u001b[1;31m---------------------------------------------------------------------------\u001b[0m",
      "\u001b[1;31mKeyboardInterrupt\u001b[0m                         Traceback (most recent call last)",
      "\u001b[1;32m<ipython-input-3-703e8ba8feae>\u001b[0m in \u001b[0;36m<module>\u001b[1;34m\u001b[0m\n\u001b[0;32m     74\u001b[0m                 \u001b[0mcount\u001b[0m\u001b[1;33m=\u001b[0m\u001b[0mcount\u001b[0m\u001b[1;33m+\u001b[0m\u001b[1;36m1\u001b[0m\u001b[1;33m\u001b[0m\u001b[1;33m\u001b[0m\u001b[0m\n\u001b[0;32m     75\u001b[0m                 \u001b[1;31m#print(count)\u001b[0m\u001b[1;33m\u001b[0m\u001b[1;33m\u001b[0m\u001b[1;33m\u001b[0m\u001b[0m\n\u001b[1;32m---> 76\u001b[1;33m                 \u001b[0mclf\u001b[0m\u001b[1;33m.\u001b[0m\u001b[0mfit\u001b[0m\u001b[1;33m(\u001b[0m\u001b[0mx\u001b[0m\u001b[1;33m[\u001b[0m\u001b[1;33m:\u001b[0m\u001b[1;33m,\u001b[0m\u001b[0mcol_train_set\u001b[0m\u001b[1;33m[\u001b[0m\u001b[0mj\u001b[0m\u001b[1;33m]\u001b[0m\u001b[1;33m]\u001b[0m\u001b[1;33m[\u001b[0m\u001b[0mX_train\u001b[0m\u001b[1;33m[\u001b[0m\u001b[0mj\u001b[0m\u001b[1;33m]\u001b[0m\u001b[1;33m]\u001b[0m\u001b[1;33m,\u001b[0m \u001b[0my\u001b[0m\u001b[1;33m[\u001b[0m\u001b[0mY_train\u001b[0m\u001b[1;33m[\u001b[0m\u001b[0mj\u001b[0m\u001b[1;33m]\u001b[0m\u001b[1;33m]\u001b[0m\u001b[1;33m)\u001b[0m\u001b[1;33m\u001b[0m\u001b[1;33m\u001b[0m\u001b[0m\n\u001b[0m\u001b[0;32m     77\u001b[0m                 \u001b[0msum1\u001b[0m\u001b[1;33m=\u001b[0m\u001b[0msum1\u001b[0m\u001b[1;33m+\u001b[0m\u001b[0mclf\u001b[0m\u001b[1;33m.\u001b[0m\u001b[0mpredict\u001b[0m\u001b[1;33m(\u001b[0m\u001b[1;33m(\u001b[0m\u001b[0mx\u001b[0m\u001b[1;33m[\u001b[0m\u001b[1;33m:\u001b[0m\u001b[1;33m,\u001b[0m\u001b[0mcol_train_set\u001b[0m\u001b[1;33m[\u001b[0m\u001b[1;36m0\u001b[0m\u001b[1;33m]\u001b[0m\u001b[1;33m]\u001b[0m\u001b[1;33m[\u001b[0m\u001b[1;36m0\u001b[0m\u001b[1;33m]\u001b[0m\u001b[1;33m.\u001b[0m\u001b[0mreshape\u001b[0m\u001b[1;33m(\u001b[0m\u001b[1;36m1\u001b[0m\u001b[1;33m,\u001b[0m\u001b[1;33m-\u001b[0m\u001b[1;36m1\u001b[0m\u001b[1;33m)\u001b[0m\u001b[1;33m)\u001b[0m\u001b[1;33m)\u001b[0m\u001b[1;33m\u001b[0m\u001b[1;33m\u001b[0m\u001b[0m\n\u001b[0;32m     78\u001b[0m         \u001b[0my_pred_oob\u001b[0m\u001b[1;33m.\u001b[0m\u001b[0mextend\u001b[0m\u001b[1;33m(\u001b[0m\u001b[0msum1\u001b[0m\u001b[1;33m/\u001b[0m\u001b[0mcount\u001b[0m\u001b[1;33m)\u001b[0m\u001b[1;33m\u001b[0m\u001b[1;33m\u001b[0m\u001b[0m\n",
      "\u001b[1;32m~\\AppData\\Local\\Continuum\\anaconda3\\lib\\site-packages\\sklearn\\tree\\tree.py\u001b[0m in \u001b[0;36mfit\u001b[1;34m(self, X, y, sample_weight, check_input, X_idx_sorted)\u001b[0m\n\u001b[0;32m   1155\u001b[0m             \u001b[0msample_weight\u001b[0m\u001b[1;33m=\u001b[0m\u001b[0msample_weight\u001b[0m\u001b[1;33m,\u001b[0m\u001b[1;33m\u001b[0m\u001b[1;33m\u001b[0m\u001b[0m\n\u001b[0;32m   1156\u001b[0m             \u001b[0mcheck_input\u001b[0m\u001b[1;33m=\u001b[0m\u001b[0mcheck_input\u001b[0m\u001b[1;33m,\u001b[0m\u001b[1;33m\u001b[0m\u001b[1;33m\u001b[0m\u001b[0m\n\u001b[1;32m-> 1157\u001b[1;33m             X_idx_sorted=X_idx_sorted)\n\u001b[0m\u001b[0;32m   1158\u001b[0m         \u001b[1;32mreturn\u001b[0m \u001b[0mself\u001b[0m\u001b[1;33m\u001b[0m\u001b[1;33m\u001b[0m\u001b[0m\n\u001b[0;32m   1159\u001b[0m \u001b[1;33m\u001b[0m\u001b[0m\n",
      "\u001b[1;32m~\\AppData\\Local\\Continuum\\anaconda3\\lib\\site-packages\\sklearn\\tree\\tree.py\u001b[0m in \u001b[0;36mfit\u001b[1;34m(self, X, y, sample_weight, check_input, X_idx_sorted)\u001b[0m\n\u001b[0;32m    378\u001b[0m                                            min_impurity_split)\n\u001b[0;32m    379\u001b[0m \u001b[1;33m\u001b[0m\u001b[0m\n\u001b[1;32m--> 380\u001b[1;33m         \u001b[0mbuilder\u001b[0m\u001b[1;33m.\u001b[0m\u001b[0mbuild\u001b[0m\u001b[1;33m(\u001b[0m\u001b[0mself\u001b[0m\u001b[1;33m.\u001b[0m\u001b[0mtree_\u001b[0m\u001b[1;33m,\u001b[0m \u001b[0mX\u001b[0m\u001b[1;33m,\u001b[0m \u001b[0my\u001b[0m\u001b[1;33m,\u001b[0m \u001b[0msample_weight\u001b[0m\u001b[1;33m,\u001b[0m \u001b[0mX_idx_sorted\u001b[0m\u001b[1;33m)\u001b[0m\u001b[1;33m\u001b[0m\u001b[1;33m\u001b[0m\u001b[0m\n\u001b[0m\u001b[0;32m    381\u001b[0m \u001b[1;33m\u001b[0m\u001b[0m\n\u001b[0;32m    382\u001b[0m         \u001b[1;32mif\u001b[0m \u001b[0mself\u001b[0m\u001b[1;33m.\u001b[0m\u001b[0mn_outputs_\u001b[0m \u001b[1;33m==\u001b[0m \u001b[1;36m1\u001b[0m\u001b[1;33m:\u001b[0m\u001b[1;33m\u001b[0m\u001b[1;33m\u001b[0m\u001b[0m\n",
      "\u001b[1;31mKeyboardInterrupt\u001b[0m: "
     ]
    }
   ],
   "source": [
    "#Step-1\n",
    "#creating 30 samples from the whole boston data points.\n",
    "Y_MSE_LIST=[]\n",
    "Y_OOB_LIST=[]\n",
    "for T in tqdm(range(35)):\n",
    "    T=T+1\n",
    "    col=np.arange(13)\n",
    "    x_num=np.arange(len(x))\n",
    "    y_num=np.arange(len(y))\n",
    "    col_set=[]\n",
    "    X_train=[]\n",
    "    X_test=[]\n",
    "    Y_train=[]\n",
    "    Y_test=[]\n",
    "    col_train_set=[]\n",
    "    for i in range(30):\n",
    "        i=i+1\n",
    "    #randomly choosing different feature for each sample\n",
    "        col_set=np.random.choice(col,6,replace=False)\n",
    "        col_sort=np.sort(col_set)\n",
    "        col_train_set.append(col_sort)\n",
    "    #X=x[:,col_train]\n",
    "        X_tr=np.random.choice(x_num,(0.6*len(x)),replace=False)\n",
    "        X_tr1, X_te1, y_tr1, y_te1 = train_test_split(X_tr0, y_tr0, test_size=0.33,random_state=2*i*T) #taking 40%of data from x_train(60% of x)\n",
    "    #addiing up the 60% and 40% values\n",
    "        X_tr_final=np.hstack((X_tr0,X_tr1))\n",
    "        y_tr_final=np.hstack((y_tr0,y_tr1))\n",
    "    #Corpus of 30 samples\n",
    "        X_train.append(X_tr_final)\n",
    "        X_test.append(X_te0)\n",
    "        Y_train.append(y_tr_final)\n",
    "        Y_test.append(y_te0)\n",
    "        \n",
    "#==============================================================================================================================        \n",
    "    #Step-2\n",
    "    from sklearn.tree import DecisionTreeRegressor\n",
    "    clf=DecisionTreeRegressor()\n",
    "    y_train_pred=[]\n",
    "    y_test_pred=[]\n",
    "    y_pred=[]\n",
    "    y_pred_test=[]\n",
    "    #y_pred corpus\n",
    "    for i in range(30):\n",
    "        y_total_pred=[]\n",
    "        clf.fit(x[:,col_train_set[i]][X_train[i]], y[Y_train[i]])\n",
    "        y_pred.append(clf.predict(x[:,col_train_set[i]]))\n",
    "#computing Average y_pre value    \n",
    "    y_sum=y_pred[0]\n",
    "    for j in range(len(y_pred)):\n",
    "        y_sum=+np.add(y_sum,y_pred[j])\n",
    "    y_pred_avg=np.true_divide(y_sum, 30)\n",
    "#computing MSE:\n",
    "    y_mse=np.subtract(y,y_pred_avg)#y-y_pred\n",
    "    y_mse_sqr=np.square(y_mse)#squaring the diff\n",
    "    y_mse_sum=0\n",
    "    for i in range(len(y_mse_sqr)):\n",
    "        y_mse_sum=y_mse_sum+y_mse_sqr[i]       \n",
    "    y_mse_final=y_mse_sum/len(y_mse_sqr)\n",
    "    print(y_mse_final)\n",
    "    Y_MSE_LIST.append(y_mse_final)\n",
    "#============================================================================================================================\n",
    "    #Step-3:\n",
    "    y_pred_oob=[]\n",
    "    countp=[]\n",
    "\n",
    "    X_trains=np.asarray(X_train)\n",
    "    for i in range(len(x)):\n",
    "        count=0\n",
    "        sum1=0\n",
    "        for j in range(30): \n",
    "            #print(i,j)\n",
    "            if i in X_test[j]:\n",
    "                #print(i,j)\n",
    "                count=count+1\n",
    "                #print(count)\n",
    "                clf.fit(x[:,col_train_set[j]][X_train[j]], y[Y_train[j]])\n",
    "                sum1=sum1+clf.predict((x[:,col_train_set[0]][0].reshape(1,-1)))\n",
    "        y_pred_oob.extend(sum1/count) \n",
    "    \n",
    "#computing OOB SCORE:\n",
    "    y_oob=np.subtract(y,y_pred_oob)#y-y_pred_oob\n",
    "    y_oob_sqr=np.square(y_oob)#squaring the diff\n",
    "    y_oob_sum=0\n",
    "#print(y_oob_sqr)\n",
    "    for i in range(len(y_oob_sqr)):\n",
    "        y_oob_sum=y_oob_sum+y_oob_sqr[i] \n",
    "    y_oob_final=y_oob_sum/(len(y_oob_sqr))\n",
    "    print((y_oob_final))\n",
    "    Y_OOB_LIST.append(y_oob_final)"
   ]
  },
  {
   "cell_type": "code",
   "execution_count": 4,
   "metadata": {},
   "outputs": [
    {
     "data": {
      "text/plain": [
       "[109.44575275361338,\n",
       " 105.72018705309998,\n",
       " 91.4934214818059,\n",
       " 92.01505040476457,\n",
       " 87.71714019559087,\n",
       " 109.99436144849496,\n",
       " 88.38816226162065,\n",
       " 115.14516869434539,\n",
       " 97.59843130097086,\n",
       " 188.3213412590634,\n",
       " 111.87545249536471,\n",
       " 291.4927141313728,\n",
       " 102.87951124032931,\n",
       " 93.49112124587998,\n",
       " 109.12647422406454,\n",
       " 111.80675307643793,\n",
       " 100.11211302991347,\n",
       " 107.137665694452,\n",
       " 99.23648027598281,\n",
       " 94.3596010363247,\n",
       " 202.71597629218314,\n",
       " 187.10552357624508,\n",
       " 87.15121785747563,\n",
       " 209.6287217933221,\n",
       " 125.61964135497007,\n",
       " 92.08682954989557,\n",
       " 146.23483691929073,\n",
       " 188.54328342232466,\n",
       " 99.87314768594743,\n",
       " 286.8751034111782,\n",
       " 100.8254758627385,\n",
       " 102.4709943168567,\n",
       " 90.4327413591399,\n",
       " 93.92794934645777,\n",
       " 232.58680827844404]"
      ]
     },
     "execution_count": 4,
     "metadata": {},
     "output_type": "execute_result"
    }
   ],
   "source": [
    "Y_OOB_LIST"
   ]
  },
  {
   "cell_type": "code",
   "execution_count": 5,
   "metadata": {},
   "outputs": [],
   "source": [
    "import statistics as stat\n",
    "y_mse_mean=stat.mean(Y_MSE_LIST)\n",
    "y_oob_mean=stat.mean(Y_OOB_LIST)\n",
    "y_mse_stdev=stat.stdev(Y_MSE_LIST)\n",
    "y_oob_stdev=stat.stdev(Y_OOB_LIST)"
   ]
  },
  {
   "cell_type": "code",
   "execution_count": 6,
   "metadata": {},
   "outputs": [
    {
     "name": "stdout",
     "output_type": "stream",
     "text": [
      "y_mse_mean= 2.7881316069998205\n",
      "y_oob_mean= 130.09814726657032\n",
      "y_mse_stdev= 0.15803423989494064\n",
      "y_oob_stdev= 56.30667683715864\n"
     ]
    }
   ],
   "source": [
    "print('y_mse_mean=',y_mse_mean)\n",
    "print('y_oob_mean=',y_oob_mean)\n",
    "print('y_mse_stdev=',y_mse_stdev)\n",
    "print('y_oob_stdev=',y_oob_stdev)"
   ]
  },
  {
   "cell_type": "code",
   "execution_count": 7,
   "metadata": {},
   "outputs": [],
   "source": [
    "#Calculating Confidence INterval:\n",
    "import math\n",
    "n=len(Y_MSE_LIST)\n",
    "CI_MSE_LOWER=(y_mse_mean-((2*y_mse_stdev)/(math.sqrt(n))))\n",
    "CI_MSE_UPPER=(y_mse_mean+((2*y_mse_stdev)/(math.sqrt(n))))\n",
    "CI_OOB_LOWER=(y_oob_mean-((2*y_oob_stdev)/(math.sqrt(n))))\n",
    "CI_OOB_UPPER=(y_oob_mean+((2*y_oob_stdev)/(math.sqrt(n))))"
   ]
  },
  {
   "cell_type": "code",
   "execution_count": 8,
   "metadata": {},
   "outputs": [
    {
     "name": "stdout",
     "output_type": "stream",
     "text": [
      "CI_MSE_LOWER= 2.7347062829038222\n",
      "CI_MSE_UPPER= 2.841556931095819\n",
      "CI_OOB_LOWER= 111.06301626715103\n",
      "CI_OOB_UPPER= 149.13327826598962\n"
     ]
    }
   ],
   "source": [
    "print('CI_MSE_LOWER=',CI_MSE_LOWER)\n",
    "print('CI_MSE_UPPER=',CI_MSE_UPPER)\n",
    "print('CI_OOB_LOWER=',CI_OOB_LOWER)\n",
    "print('CI_OOB_UPPER=',CI_OOB_UPPER)"
   ]
  },
  {
   "cell_type": "code",
   "execution_count": 42,
   "metadata": {},
   "outputs": [
    {
     "data": {
      "text/plain": [
       "array([20.52])"
      ]
     },
     "execution_count": 42,
     "metadata": {},
     "output_type": "execute_result"
    }
   ],
   "source": [
    "#TASK-3:\n",
    "\n",
    "#Calculate price of house for given X:\n",
    "\n",
    "xq= [0.18,20.0,5.00,0.0,0.421,5.60,72.2,7.95,7.0,30.0,19.1,372.13,18.60]\n",
    "xq=np.array(xq)\n",
    "xq=xq.reshape(1,-1)\n",
    "xq\n",
    "y_pdt=[]\n",
    "for i in range(30):\n",
    "    y_total_pred=[]\n",
    "    clf.fit(x[:,col_train_set[i]][X_train[i]], y[Y_train[i]])\n",
    "    y_pdt.append(clf.predict(xq[:,col_train_set[i]]))\n",
    "#computing Average y_ptd value    \n",
    "y_sum=0\n",
    "for j in range(len(y_pdt)):\n",
    "    y_sum=y_sum+y_pdt[j]\n",
    "y_pdt_avg=y_sum/30\n",
    "y_pdt_avg"
   ]
  },
  {
   "cell_type": "code",
   "execution_count": 41,
   "metadata": {},
   "outputs": [
    {
     "name": "stderr",
     "output_type": "stream",
     "text": [
      "\n",
      "  0%|                                                                                            | 0/2 [00:00<?, ?it/s]"
     ]
    },
    {
     "name": "stdout",
     "output_type": "stream",
     "text": [
      "2.9973848778607337\n",
      "2.9973848778607333\n",
      "88.92275467342809\n"
     ]
    },
    {
     "name": "stderr",
     "output_type": "stream",
     "text": [
      "\n",
      " 50%|██████████████████████████████████████████                                          | 1/2 [00:10<00:10, 10.92s/it]"
     ]
    },
    {
     "name": "stdout",
     "output_type": "stream",
     "text": [
      "2.506928205972772\n",
      "2.50692820597277\n",
      "86.76937903538153\n"
     ]
    },
    {
     "name": "stderr",
     "output_type": "stream",
     "text": [
      "\n",
      "100%|████████████████████████████████████████████████████████████████████████████████████| 2/2 [00:21<00:00, 10.93s/it]"
     ]
    }
   ],
   "source": [
    "#Step-1\n",
    "#creating 30 samples from the whole boston data points.\n",
    "Y_MSE_LIST=[]\n",
    "Y_OOB_LIST=[]\n",
    "Y_MSE_LIST_SKT=[]\n",
    "for T in tqdm(range(2)):\n",
    "    T=T+1\n",
    "    col=np.arange(13)\n",
    "    x_num=np.arange(len(x))\n",
    "    y_num=np.arange(len(y))\n",
    "    col_set=[]\n",
    "    X_train=[]\n",
    "    X_test=[]\n",
    "    Y_train=[]\n",
    "    Y_test=[]\n",
    "    col_set=[]\n",
    "    \n",
    "    for i in range(30):\n",
    "        i=i+1\n",
    "    #randomly choosing different feature for each sample\n",
    "        col_list=np.random.choice(col,6,replace=False)\n",
    "        col_sort=np.sort(col_list)\n",
    "        col_set.append(col_sort)\n",
    "    #X=x[:,col_train]\n",
    "        X_set_60=np.random.choice(x_num,304,replace=False)\n",
    "        X_set_40=np.random.choice(X_set_60,202,replace=False)\n",
    "    #addiing up the 60% and 40% values\n",
    "        X_set_final=np.hstack((X_set_60,X_set_60))\n",
    "        X_set_final=np.sort(X_set_final)\n",
    "    #Corpus of 30 samples\n",
    "        X_train.append(X_set_final)\n",
    "#==============================================================================================================================        \n",
    "    #Step-2\n",
    "    from sklearn.tree import DecisionTreeRegressor\n",
    "    clf=DecisionTreeRegressor()\n",
    "    y_train_pred=[]\n",
    "    y_test_pred=[]\n",
    "    y_pred=[]\n",
    "    y_pred_test=[]\n",
    "    \n",
    "    #y_pred corpus\n",
    "    for i in range(30):\n",
    "        y_total_pred=[]\n",
    "        clf.fit(x[:,col_set[i]][X_train[i]], y[X_train[i]])\n",
    "        y_pred.append(clf.predict(x[:,col_set[i]]))\n",
    "#computing Average y_pre value    \n",
    "    y_sum=y_pred[0]\n",
    "    for j in range(len(y_pred)):\n",
    "        y_sum=+np.add(y_sum,y_pred[j])\n",
    "    y_pred_avg=np.true_divide(y_sum, 30)\n",
    "#computing MSE:\n",
    "    from sklearn.metrics import mean_squared_error as mse\n",
    "    y_mse_scikit=mse(y_pred_avg,y)#using scikit\n",
    "    print(y_mse_scikit)\n",
    "    Y_MSE_LIST_SKT.append(y_mse_scikit)\n",
    "    y_mse=np.subtract(y,y_pred_avg)#y-y_pred\n",
    "    y_mse_sqr=np.square(y_mse)#squaring the diff\n",
    "    y_mse_sum=0\n",
    "    for i in range(len(y_mse_sqr)):\n",
    "        y_mse_sum=y_mse_sum+y_mse_sqr[i]       \n",
    "    y_mse_final=y_mse_sum/len(y_mse_sqr)\n",
    "    print(y_mse_final)\n",
    "    Y_MSE_LIST.append(y_mse_final)\n",
    "    \n",
    "#============================================================================================================================\n",
    "    #Step-3:\n",
    "    y_pred_oob=[]\n",
    "    countp=[]\n",
    "\n",
    "    X_trains=np.asarray(X_train)\n",
    "    for i in range(len(x)):\n",
    "        count=0\n",
    "        sum1=0\n",
    "        for j in range(30): \n",
    "            #print(i,j)\n",
    "            if i not in X_train[j]:\n",
    "                #print(i,j)\n",
    "                count=count+1\n",
    "                #print(count)\n",
    "                clf.fit(x[:,col_train_set[j]][X_train[j]], y[X_train[j]])\n",
    "                sum1=sum1+clf.predict((x[:,col_train_set[0]][0].reshape(1,-1)))\n",
    "        y_pred_oob.extend(sum1/count) \n",
    "    \n",
    "#computing OOB SCORE:\n",
    "    y_oob=np.subtract(y,y_pred_oob)#y-y_pred_oob\n",
    "    y_oob_sqr=np.square(y_oob)#squaring the diff\n",
    "    y_oob_sum=0\n",
    "#print(y_oob_sqr)\n",
    "    for i in range(len(y_oob_sqr)):\n",
    "        y_oob_sum=y_oob_sum+y_oob_sqr[i] \n",
    "    y_oob_final=y_oob_sum/(len(y_oob_sqr))\n",
    "    print((y_oob_final))\n",
    "    Y_OOB_LIST.append(y_oob_final)\n",
    "\n"
   ]
  },
  {
   "cell_type": "code",
   "execution_count": 42,
   "metadata": {},
   "outputs": [
    {
     "data": {
      "text/plain": [
       "[2.9973848778607337, 2.506928205972772]"
      ]
     },
     "execution_count": 42,
     "metadata": {},
     "output_type": "execute_result"
    }
   ],
   "source": [
    "Y_MSE_LIST_SKT"
   ]
  },
  {
   "cell_type": "code",
   "execution_count": 43,
   "metadata": {},
   "outputs": [
    {
     "data": {
      "text/plain": [
       "[2.9973848778607333, 2.50692820597277]"
      ]
     },
     "execution_count": 43,
     "metadata": {},
     "output_type": "execute_result"
    }
   ],
   "source": [
    "Y_MSE_LIST"
   ]
  },
  {
   "cell_type": "code",
   "execution_count": 23,
   "metadata": {},
   "outputs": [
    {
     "data": {
      "text/plain": [
       "20.926462450592886"
      ]
     },
     "execution_count": 23,
     "metadata": {},
     "output_type": "execute_result"
    }
   ],
   "source": [
    "from sklearn.metrics import mean_squared_error as mse\n",
    "mse(y_pred[0],y)"
   ]
  },
  {
   "cell_type": "code",
   "execution_count": null,
   "metadata": {},
   "outputs": [],
   "source": []
  }
 ],
 "metadata": {
  "kernelspec": {
   "display_name": "Python 3",
   "language": "python",
   "name": "python3"
  },
  "language_info": {
   "codemirror_mode": {
    "name": "ipython",
    "version": 3
   },
   "file_extension": ".py",
   "mimetype": "text/x-python",
   "name": "python",
   "nbconvert_exporter": "python",
   "pygments_lexer": "ipython3",
   "version": "3.7.3"
  }
 },
 "nbformat": 4,
 "nbformat_minor": 2
}

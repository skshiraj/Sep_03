{
 "cells": [
  {
   "cell_type": "code",
   "execution_count": 4,
   "metadata": {},
   "outputs": [],
   "source": [
    "import numpy as np\n",
    "from sklearn.datasets import load_boston\n",
    "from sklearn.metrics import mean_squared_error\n",
    "from sklearn.model_selection import train_test_split\n",
    "from sklearn.tree import DecisionTreeRegressor\n",
    "from tqdm import tqdm"
   ]
  },
  {
   "cell_type": "code",
   "execution_count": 2,
   "metadata": {},
   "outputs": [],
   "source": [
    "boston = load_boston()\n",
    "x=boston.data #independent variables\n",
    "y=boston.target #target variable"
   ]
  },
  {
   "cell_type": "code",
   "execution_count": 28,
   "metadata": {},
   "outputs": [
    {
     "name": "stderr",
     "output_type": "stream",
     "text": [
      "100%|██████████████████████████████████████████████████████████████████████████████████| 35/35 [00:18<00:00,  1.87it/s]\n"
     ]
    }
   ],
   "source": [
    "#=============================================================================================================================#        \n",
    "#                                                   TASK-1                                                                    #\n",
    "#=============================================================================================================================#\n",
    "#=============================================================================================================================#        \n",
    "#    Step-1                                                                                                                   #\n",
    "#=============================================================================================================================#\n",
    "#creating 30 samples from the whole boston data points.\n",
    "Y_MSE_LIST=[]\n",
    "Y_OOB_LIST=[]\n",
    "Y_MSE_LIST_SKT=[]\n",
    "for T in tqdm(range(35)):\n",
    "    T=T+1\n",
    "    col=np.arange(13)\n",
    "    x_num=np.arange(len(x))\n",
    "    y_num=np.arange(len(y))\n",
    "    col_set=[]\n",
    "    X_train=[]\n",
    "    clf=['Model_1','Model_2','Model_3','Model_4','Model_5','Model_6','Model_7','Model_8','Model_9','Model_10','Model_11','Model_12','Model_13','Model_14','Model_15','Model_16','Model_17','Model_18','Model_19','Model_20','Model_21','Model_22','Model_23','Model_24','Model_25','Model_26','Model_27','Model_28','Model_29','Model_30',]\n",
    "    \n",
    "    for i in range(30):\n",
    "        i=i+1\n",
    "    #randomly choosing different feature for each sample\n",
    "        col_list=np.random.choice(col,6,replace=False)\n",
    "        col_sort=np.sort(col_list)\n",
    "        col_set.append(col_sort)\n",
    "\n",
    "        X_set_60=np.random.choice(x_num,304,replace=False)#selecting 60% data\n",
    "        X_set_40=np.random.choice(X_set_60,202,replace=False)#selecting 40%data from 60%data\n",
    "    #addiing up the 60% and 40% values\n",
    "        X_set_final=np.hstack((X_set_60,X_set_60))\n",
    "        X_set_final=np.sort(X_set_final)\n",
    "    #Corpus of 30 samples\n",
    "        X_train.append(X_set_final)\n",
    "#=============================================================================================================================#        \n",
    "#    Step-2                                                                                                                   #\n",
    "#=============================================================================================================================#\n",
    "    y_pred=[]\n",
    "    #y_pred corpus\n",
    "    for i in range(30):\n",
    "        clf[i]=DecisionTreeRegressor()\n",
    "        y_total_pred=[]\n",
    "        clf[i].fit(x[:,col_set[i]][X_train[i]], y[X_train[i]])\n",
    "        y_pred.append(clf[i].predict(x[:,col_set[i]]))\n",
    "    #computing Average y_pre value    \n",
    "    y_sum=y_pred[0]\n",
    "    for j in range(len(y_pred)):\n",
    "        y_sum=+np.add(y_sum,y_pred[j])\n",
    "    y_pred_avg=np.true_divide(y_sum, 30)\n",
    "    #computing MSE:\n",
    "    from sklearn.metrics import mean_squared_error as mse\n",
    "    y_mse_scikit=mse(y_pred_avg,y)#using scikit\n",
    "    Y_MSE_LIST_SKT.append(round(y_mse_scikit,2))\n",
    "    y_mse=np.subtract(y,y_pred_avg)#y-y_pred\n",
    "    y_mse_sqr=np.square(y_mse)#squaring the diff\n",
    "    y_mse_sum=0\n",
    "    for i in range(len(y_mse_sqr)):\n",
    "        y_mse_sum=y_mse_sum+y_mse_sqr[i]       \n",
    "    y_mse_final=y_mse_sum/len(y_mse_sqr)\n",
    "    Y_MSE_LIST.append(round(y_mse_final,2))\n",
    "    \n",
    "#=============================================================================================================================#        \n",
    "#    Step-3                                                                                                                   #\n",
    "#=============================================================================================================================#\n",
    "\n",
    "    y_pred_oob=[]\n",
    "    countp=[]\n",
    "\n",
    "    X_trains=np.asarray(X_train)\n",
    "    for i in range(len(x)):\n",
    "        count=0\n",
    "        sum1=0\n",
    "        for j in range(30): \n",
    "            if i not in X_train[j]:\n",
    "                count=count+1\n",
    "                sum1=sum1+clf[j].predict((x[:,col_set[0]][0].reshape(1,-1)))\n",
    "        y_pred_oob.extend(sum1/count) \n",
    "    \n",
    "#computing OOB SCORE:\n",
    "\n",
    "    y_oob=np.subtract(y,y_pred_oob)#y-y_pred_oob\n",
    "    y_oob_sqr=np.square(y_oob)#squaring the diff\n",
    "    y_oob_sum=0\n",
    "    for i in range(len(y_oob_sqr)):\n",
    "        y_oob_sum=y_oob_sum+y_oob_sqr[i] \n",
    "    y_oob_final=y_oob_sum/(len(y_oob_sqr))\n",
    "    Y_OOB_LIST.append(round(y_oob_final,2))\n"
   ]
  },
  {
   "cell_type": "code",
   "execution_count": 30,
   "metadata": {},
   "outputs": [
    {
     "name": "stdout",
     "output_type": "stream",
     "text": [
      "y_mse values through sklearn Y_MSE_LIST_SKT:\n",
      " [2.66, 3.3, 2.89, 2.58, 2.64, 3.19, 2.9, 2.76, 2.86, 2.69, 2.93, 2.45, 2.76, 3.04, 2.65, 2.97, 3.48, 3.23, 3.1, 2.68, 2.55, 3.15, 2.69, 2.51, 2.98, 3.04, 2.91, 2.98, 2.93, 2.71, 2.97, 3.24, 3.01, 2.83, 2.61]\n",
      "\n",
      "MSE values calculated:\n",
      " [2.66, 3.3, 2.89, 2.58, 2.64, 3.19, 2.9, 2.76, 2.86, 2.69, 2.93, 2.45, 2.76, 3.04, 2.65, 2.97, 3.48, 3.23, 3.1, 2.68, 2.55, 3.15, 2.69, 2.51, 2.98, 3.04, 2.91, 2.98, 2.93, 2.71, 2.97, 3.24, 3.01, 2.83, 2.61]\n",
      "\n",
      "OOB_values:\n",
      " [92.17, 92.35, 90.19, 119.09, 92.6, 90.32, 92.69, 176.46, 105.11, 135.64, 98.68, 200.4, 97.14, 140.29, 92.94, 88.5, 94.0, 105.15, 92.46, 121.46, 175.73, 154.76, 91.04, 91.47, 87.9, 93.49, 346.45, 92.16, 96.03, 125.32, 121.33, 94.57, 102.72, 261.34, 173.74]\n"
     ]
    }
   ],
   "source": [
    "print('y_mse values through sklearn Y_MSE_LIST_SKT:\\n',Y_MSE_LIST_SKT)\n",
    "print('\\nMSE values calculated:\\n',Y_MSE_LIST)\n",
    "print('\\nOOB_values:\\n',Y_OOB_LIST)"
   ]
  },
  {
   "cell_type": "code",
   "execution_count": 31,
   "metadata": {},
   "outputs": [
    {
     "name": "stdout",
     "output_type": "stream",
     "text": [
      "y_mse_mean= 2.882\n",
      "y_oob_mean= 123.59114285714286\n",
      "y_mse_stdev= 0.24505461576122647\n",
      "y_oob_stdev= 55.150257840121945\n",
      "CI_MSE_LOWER= 2.799156419539415\n",
      "CI_MSE_UPPER= 2.964843580460585\n",
      "CI_OOB_LOWER= 104.94695283196134\n",
      "CI_OOB_UPPER= 142.23533288232437\n"
     ]
    }
   ],
   "source": [
    "#=============================================================================================================================#        \n",
    "#                                                     TASK-2                                                                  #\n",
    "#=============================================================================================================================#\n",
    "#Calculating Cinfidence Interval:\n",
    "import statistics as stat\n",
    "import math\n",
    "y_mse_mean=stat.mean(Y_MSE_LIST)\n",
    "y_oob_mean=stat.mean(Y_OOB_LIST)\n",
    "y_mse_stdev=stat.stdev(Y_MSE_LIST)\n",
    "y_oob_stdev=stat.stdev(Y_OOB_LIST)\n",
    "print('y_mse_mean=',y_mse_mean)\n",
    "print('y_oob_mean=',y_oob_mean)\n",
    "print('y_mse_stdev=',y_mse_stdev)\n",
    "print('y_oob_stdev=',y_oob_stdev)\n",
    "\n",
    "n=len(Y_MSE_LIST)\n",
    "CI_MSE_LOWER=(y_mse_mean-((2*y_mse_stdev)/(math.sqrt(n))))\n",
    "CI_MSE_UPPER=(y_mse_mean+((2*y_mse_stdev)/(math.sqrt(n))))\n",
    "CI_OOB_LOWER=(y_oob_mean-((2*y_oob_stdev)/(math.sqrt(n))))\n",
    "CI_OOB_UPPER=(y_oob_mean+((2*y_oob_stdev)/(math.sqrt(n))))\n",
    "#printing the values\n",
    "print('CI_MSE_LOWER=',CI_MSE_LOWER)\n",
    "print('CI_MSE_UPPER=',CI_MSE_UPPER)\n",
    "print('CI_OOB_LOWER=',CI_OOB_LOWER)\n",
    "print('CI_OOB_UPPER=',CI_OOB_UPPER)"
   ]
  },
  {
   "cell_type": "code",
   "execution_count": 32,
   "metadata": {},
   "outputs": [
    {
     "name": "stdout",
     "output_type": "stream",
     "text": [
      "Predicted Home price for the given datapoint: 22.0\n"
     ]
    }
   ],
   "source": [
    "#=============================================================================================================================#        \n",
    "#                                                     TASK-3                                                                  #\n",
    "#=============================================================================================================================#\n",
    "\n",
    "#Calculate price of house for given X point:\n",
    "\n",
    "xq= [0.18,20.0,5.00,0.0,0.421,5.60,72.2,7.95,7.0,30.0,19.1,372.13,18.60]\n",
    "xq=np.array(xq)\n",
    "xq=xq.reshape(1,-1)\n",
    "xq\n",
    "y_pdt=[]\n",
    "for i in range(30):\n",
    "    y_total_pred=[]\n",
    "    clf[i].fit(x[:,col_set[i]][X_train[i]], y[X_train[i]])\n",
    "    y_pdt.append(clf[i].predict(xq[:,col_set[i]]))\n",
    "#computing Average y_ptd value    \n",
    "y_sum=0\n",
    "for j in range(len(y_pdt)):\n",
    "    y_sum=y_sum+y_pdt[j]\n",
    "y_pdt_avg=y_sum/30\n",
    "y_pdt_avg=round(float(y_pdt_avg),2)\n",
    "print('Predicted Home price for the given datapoint:',y_pdt_avg)"
   ]
  },
  {
   "cell_type": "code",
   "execution_count": null,
   "metadata": {},
   "outputs": [],
   "source": []
  }
 ],
 "metadata": {
  "kernelspec": {
   "display_name": "Python 3",
   "language": "python",
   "name": "python3"
  },
  "language_info": {
   "codemirror_mode": {
    "name": "ipython",
    "version": 3
   },
   "file_extension": ".py",
   "mimetype": "text/x-python",
   "name": "python",
   "nbconvert_exporter": "python",
   "pygments_lexer": "ipython3",
   "version": "3.7.3"
  }
 },
 "nbformat": 4,
 "nbformat_minor": 2
}

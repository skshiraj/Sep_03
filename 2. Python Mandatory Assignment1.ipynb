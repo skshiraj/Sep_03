{
 "cells": [
  {
   "cell_type": "markdown",
   "metadata": {
    "colab_type": "text",
    "id": "ZeJAaKUkctA-"
   },
   "source": [
    "<h1>Python: without numpy or sklearn </h1>"
   ]
  },
  {
   "cell_type": "markdown",
   "metadata": {
    "colab_type": "text",
    "id": "3Cfte7lIctBB"
   },
   "source": [
    "<h3> Q1: Given two matrices please print the product of those two matrices </h3>\n",
    "<pre>\n",
    "\n",
    "Ex 1: A   = [[1 3 4]\n",
    "             [2 5 7]\n",
    "             [5 9 6]]\n",
    "      B   = [[1 0 0]\n",
    "             [0 1 0]\n",
    "             [0 0 1]]\n",
    "      A*B = [[1 3 4]\n",
    "             [2 5 7]\n",
    "             [5 9 6]]\n",
    "\n",
    "     \n",
    "Ex 2: A   = [[1 2]\n",
    "             [3 4]]\n",
    "      B   = [[1 2 3 4 5]\n",
    "             [5 6 7 8 9]]\n",
    "      A*B = [[11 14 17 20 23]\n",
    "             [18 24 30 36 42]]\n",
    "             \n",
    "Ex 3: A   = [[1 2]\n",
    "             [3 4]]\n",
    "      B   = [[1 4]\n",
    "             [5 6]\n",
    "             [7 8]\n",
    "             [9 6]]\n",
    "      A*B =Not possible\n",
    "</pre>"
   ]
  },
  {
   "cell_type": "markdown",
   "metadata": {
    "colab_type": "text",
    "id": "zi1Eo4sxlxMV"
   },
   "source": [
    "#Reference:\n",
    "\n",
    "https://www.geeksforgeeks.org/take-matrix-input-from-user-in-python/\n",
    "\n",
    "https://www.tutorialspoint.com/How-to-Multiply-Two-Matrices-using-Python"
   ]
  },
  {
   "cell_type": "code",
   "execution_count": 60,
   "metadata": {
    "colab": {
     "base_uri": "https://localhost:8080/",
     "height": 306
    },
    "colab_type": "code",
    "id": "k-8r2iUVcxZU",
    "outputId": "cd525aee-7e6a-4f3c-9ae4-ef36a17dd9cf"
   },
   "outputs": [
    {
     "name": "stdout",
     "output_type": "stream",
     "text": [
      "Enter the Number of Rows for the Matrix-A:2\n",
      "Enter the Number of Columns for the Matrix-A:2\n",
      "Enter the entries/numbers ROW-WISE :\n",
      "2\n",
      "3\n",
      "5\n",
      "6\n",
      "2 3 \n",
      "5 6 \n",
      "Enter the Number of Rows for the Matrix-B:2\n",
      "Enter the Number of Columns for the Matrix-B:1\n",
      "Enter the entries/numbers ROW-WISE :\n",
      "6\n",
      "4\n",
      "6 \n",
      "4 \n",
      "Size oF Matrix-A: 2 2 Size oF Matrix-B: 2 1\n",
      "24 \n",
      "54 \n"
     ]
    },
    {
     "data": {
      "text/plain": [
       "[[24], [54]]"
      ]
     },
     "execution_count": 60,
     "metadata": {},
     "output_type": "execute_result"
    }
   ],
   "source": [
    "def matrix_mul(A, B):\n",
    "    C=[]  \n",
    "    R1=len(A)\n",
    "    R2=len(B)\n",
    "    C1=len(A[0])\n",
    "    C2=len(B[0])\n",
    "    print('Size oF Matrix-A:' ,R1,C1, 'Size oF Matrix-B:' ,R2,C2)\n",
    "    if C1 == R2:\n",
    "       for i in range(R1):\n",
    "           c=[]\n",
    "           for j in range(C2):  \n",
    "               num=0\n",
    "               for k in range(R2):          \n",
    "                   num = num+A[i][k]*B[k][j]    \n",
    "               c.append(num)\n",
    "           C.append(c)   \n",
    "       for i in range(R1):    \n",
    "          for j in range(C2):\n",
    "              print(C[i][j], end = \" \")      \n",
    "          print()\n",
    "       return(C)        \n",
    "    else:\n",
    "       return(print(\"enter proper matrices to be multiplied\"))\n",
    "\n",
    "R1=int(input(\"Enter the Number of Rows for the Matrix-A:\"))\n",
    "C1=int(input(\"Enter the Number of Columns for the Matrix-A:\"))\n",
    "\n",
    "A=[]\n",
    "print(\"Enter the entries/numbers ROW-WISE :\")\n",
    "for i in range(R1):\n",
    "    a=[]\n",
    "    for j in range(C1):\n",
    "        a.append(int(input()))      \n",
    "    A.append(a)   \n",
    "for i in range(R1):    \n",
    "    for j in range(C1):\n",
    "        print(A[i][j], end = \" \")      \n",
    "    print()   \n",
    "    \n",
    "    \n",
    "R2=int(input(\"Enter the Number of Rows for the Matrix-B:\"))\n",
    "C2=int(input(\"Enter the Number of Columns for the Matrix-B:\"))\n",
    "\n",
    "B=[]\n",
    "print(\"Enter the entries/numbers ROW-WISE :\")\n",
    "for i in range(R2):\n",
    "    b=[]\n",
    "    for j in range(C2):\n",
    "        b.append(int(input()))      \n",
    "    B.append(b)   \n",
    "for i in range(R2):    \n",
    "    for j in range(C2):\n",
    "        print(B[i][j], end = \" \")      \n",
    "    print()  \n",
    "matrix_mul(A, B)  \n",
    "\n"
   ]
  },
  {
   "cell_type": "markdown",
   "metadata": {
    "colab_type": "text",
    "id": "7n6DJxc-ctBF"
   },
   "source": [
    "<h3> Q2: Select a number randomly with probability proportional to its magnitude from the given array of n elements</h3>\n",
    "\n",
    "consider an experiment, selecting an element from the list A randomly with probability proportional to its magnitude.\n",
    "assume we are doing the same experiment for 100 times with replacement, in each experiment you will print a number that is selected randomly from A.\n",
    "\n",
    "<pre>\n",
    "Ex 1: A = [0 5 27 6 13 28 100 45 10 79]\n",
    "let f(x) denote the number of times x getting selected in 100 experiments.\n",
    "f(100) > f(79) > f(45) > f(28) > f(27) > f(13) > f(10) > f(6) > f(5) > f(0)\n",
    "</pre>"
   ]
  },
  {
   "cell_type": "code",
   "execution_count": 64,
   "metadata": {
    "colab": {},
    "colab_type": "code",
    "id": "rLmMy9r1ctBG"
   },
   "outputs": [
    {
     "name": "stdout",
     "output_type": "stream",
     "text": [
      "Random number selected through uniform function: 26.41218328833159\n",
      "Number Selected from the given list: 27\n"
     ]
    }
   ],
   "source": [
    "import random\n",
    "def pick_a_number_from_list(A):\n",
    "    p=random.uniform(min(A),max(A)) \n",
    "    print('Random number selected through uniform function:', p)\n",
    "    min_diff=max(A)\n",
    "    for i in range(len(A)):\n",
    "        diff=abs(A[i]-p)\n",
    "        if diff < min_diff:\n",
    "            min_diff=diff\n",
    "            Selected_Num=A[i]\n",
    "        else:\n",
    "            continue\n",
    "    return Selected_Num\n",
    "\n",
    "A = [0,5, 27, 6, 13, 28, 100, 45, 10, 79]\n",
    "def sampling_based_on_magnitued():\n",
    "    for i in range(1,2):\n",
    "        number = pick_a_number_from_list(A)\n",
    "        print('Number Selected from the given list:',number)\n",
    "sampling_based_on_magnitued()"
   ]
  },
  {
   "cell_type": "markdown",
   "metadata": {
    "colab_type": "text",
    "id": "bdkeRJT1ctBJ"
   },
   "source": [
    "<h3> Q3: Replace the digits in the string with #</h3>\n",
    "\n",
    "Consider a string that will have digits in that, we need to remove all the characters which are not digits and replace the digits with #\n",
    "<pre>\n",
    "Ex 1: A = 234                Output: ###\n",
    "Ex 2: A = a2b3c4             Output: ###\n",
    "Ex 3: A = abc                Output:   (empty string)\n",
    "Ex 5: A = #2a$#b%c%561#      Output: ####\n",
    "</pre>"
   ]
  },
  {
   "cell_type": "code",
   "execution_count": 65,
   "metadata": {
    "colab": {},
    "colab_type": "code",
    "id": "Jf14BAmnctBJ"
   },
   "outputs": [
    {
     "data": {
      "text/plain": [
       "'####'"
      ]
     },
     "execution_count": 65,
     "metadata": {},
     "output_type": "execute_result"
    }
   ],
   "source": [
    "import re\n",
    "String='#2a$#b%c%561#'\n",
    "def replace_digits(String):\n",
    "    String = re.sub(\"[^0-9]+\",'',String)\n",
    "    String = re.sub(\"\\d\",'#',String) \n",
    "\n",
    "    return(String) \n",
    "\n",
    "replace_digits(String)"
   ]
  },
  {
   "cell_type": "markdown",
   "metadata": {
    "colab_type": "text",
    "id": "S5BgREA0ctBL"
   },
   "source": [
    "<h3> Q4: Students marks dashboard</h3>\n",
    "\n",
    "Consider the marks list of class students given in two lists <br>\n",
    "Students = ['student1','student2','student3','student4','student5','student6','student7','student8','student9','student10'] <br>\n",
    "Marks = [45, 78, 12, 14, 48, 43, 45, 98, 35, 80] <br>\n",
    "from the above two lists the Student[0] got Marks[0],  Student[1] got Marks[1] and so on. <br><br>\n",
    "\n",
    "Your task is to print the name of students\n",
    "\n",
    "<strong>a. Who got top 5 ranks, in the descending order of marks</strong> <br>\n",
    "<strong>b. Who got least 5 ranks, in the increasing order of marks</strong><br>\n",
    "<strong>d. Who got marks between  &gt;25th percentile &lt;75th percentile, in the increasing order of marks.</strong>\n",
    "\n",
    "<pre>\n",
    "Ex 1: \n",
    "Students=['student1','student2','student3','student4','student5','student6','student7','student8','student9','student10'] \n",
    "Marks = [45, 78, 12, 14, 48, 43, 47, 98, 35, 80]\n",
    "\n",
    "a. \n",
    "student8  98\n",
    "student10 80\n",
    "student2  78\n",
    "student5  48\n",
    "student7  47\n",
    "\n",
    "b.\n",
    "student3 12\n",
    "student4 14\n",
    "student9 35\n",
    "student6 43\n",
    "student1 45\n",
    "\n",
    "c.\n",
    "student9 35\n",
    "student6 43\n",
    "student1 45\n",
    "student7 47\n",
    "student5 48\n",
    "</pre>"
   ]
  },
  {
   "cell_type": "code",
   "execution_count": 66,
   "metadata": {
    "colab": {},
    "colab_type": "code",
    "id": "U59U2wvPctBM"
   },
   "outputs": [
    {
     "name": "stdout",
     "output_type": "stream",
     "text": [
      "Top 5 Students:\n",
      "student8 98\n",
      "student10 80\n",
      "student2 78\n",
      "student5 48\n",
      "student7 47\n",
      "least 5 Students:\n",
      "student3 12\n",
      "student4 14\n",
      "student9 35\n",
      "student6 43\n",
      "student1 45\n",
      "Students whogot marks between >25th percentile <75th percentile:\n",
      "student9 35\n",
      "student6 43\n",
      "student1 45\n",
      "student7 47\n",
      "student5 48\n"
     ]
    }
   ],
   "source": [
    "def display_dash_board(students, marks):\n",
    "    #creating Dictionary\n",
    "    student_records={}\n",
    "    for i in range(len(Students)):\n",
    "        student_records[Marks[i]]=Students[i]\n",
    "    #TOP5\n",
    "    print(\"Top 5 Students:\")\n",
    "    top5=sorted (student_records.keys(),reverse=True)[:5]  #sorting in ascending Order  \n",
    "    for i in range(5):\n",
    "        print(student_records[top5[i]],top5[i])#printing the top 5\n",
    "    #Least5\n",
    "    print(\"least 5 Students:\")\n",
    "    least5=sorted (student_records.keys())[:5]#sorting in descending Order  \n",
    "    for i in range(5):    \n",
    "        print(student_records[least5[i]],least5[i])  #printing the least 5\n",
    "    #25-75\n",
    "    st_list=sorted(student_records.keys())\n",
    "    print(\"Students whogot marks between >25th percentile <75th percentile:\")\n",
    "    for i in range(len(st_list)):\n",
    "        if st_list[i]>25 and st_list[i]<75:\n",
    "            print(student_records[st_list[i]],st_list[i])\n",
    "        else:\n",
    "            continue\n",
    "    return \n",
    "\n",
    "\n",
    "Students=['student1','student2','student3','student4','student5','student6','student7','student8','student9','student10']\n",
    "Marks = [45, 78, 12, 14, 48, 43, 47, 98, 35, 80]\n",
    "display_dash_board(Students, Marks)\n"
   ]
  },
  {
   "cell_type": "markdown",
   "metadata": {
    "colab_type": "text",
    "id": "ruFVkrg7ctBO"
   },
   "source": [
    "<h3> Q5: Find the closest points</h3>\n",
    "\n",
    "Consider you are given n data points in the form of list of tuples like S=[(x1,y1),(x2,y2),(x3,y3),(x4,y4),(x5,y5),..,(xn,yn)] and a point P=(p,q) <br> your task is to find 5 closest points(based on cosine distance) in S from P\n",
    "\n",
    "<br>Cosine distance between two points (x,y) and (p,q) is defined as $cos^{-1}(\\frac{(x\\cdot p+y\\cdot q)}{\\sqrt(x^2+y^2)\\cdot\\sqrt(p^2+q^2)})$\n",
    "<pre>\n",
    "Ex:\n",
    "\n",
    "S= [(1,2),(3,4),(-1,1),(6,-7),(0, 6),(-5,-8),(-1,-1)(6,0),(1,-1)]\n",
    "P= (3,-4)\n",
    "<img src='https://i.imgur.com/vIFPOcG.jpg', width=300>\n",
    "Output:\n",
    "(6,-7)\n",
    "(1,-1)\n",
    "(6,0)\n",
    "(-5,-8)\n",
    "(-1,-1)\n",
    "</pre>"
   ]
  },
  {
   "cell_type": "code",
   "execution_count": 67,
   "metadata": {
    "colab": {},
    "colab_type": "code",
    "id": "SgKqVHqsctBQ"
   },
   "outputs": [
    {
     "name": "stdout",
     "output_type": "stream",
     "text": [
      "(6, -7) 0.06512516333438509\n",
      "(1, -1) 0.14189705460416438\n",
      "(6, 0) 0.9272952180016123\n",
      "(-5, -8) 1.2021004241368467\n",
      "(-1, -1) 1.4288992721907328\n",
      "\n"
     ]
    }
   ],
   "source": [
    "import math\n",
    "S= [(1,2),(3,4),(-1,1),(6,-7),(0, 6),(-5,-8),(-1,-1),(6,0),(1,-1)]\n",
    "P= (3,-4)\n",
    "\n",
    "p=P[0]   #Assigning point P values to p & q\n",
    "q=P[1]\n",
    "dist_records={}\n",
    "def closest_points_to_p(S, P):\n",
    "    for i in range(len(S)):\n",
    "        x=S[i][0]\n",
    "        y=S[i][1]\n",
    "        num=((x*p)+(y*q))       \n",
    "        den1=math.sqrt(x*x +y*y)\n",
    "        den2=math.sqrt((p*p)+(q*q))\n",
    "        den=den1*den2\n",
    "        value=math.acos(num/den)\n",
    "        dist_records[value]=S[i] #dictionary for point and its cosine dist from point P\n",
    "    closest5=sorted (dist_records.keys())[:5] #Sorting Least % distance   \n",
    "    for i in range(5):\n",
    "        print(dist_records[closest5[i]],closest5[i])\n",
    "    return closest_points_to_p\n",
    "points = closest_points_to_p(S, P)\n",
    "print()"
   ]
  },
  {
   "cell_type": "markdown",
   "metadata": {
    "colab_type": "text",
    "id": "2PZ14KCsctBS"
   },
   "source": [
    "<h3> Q6: Find which line separates oranges and apples</h3>\n",
    "\n",
    "Consider you are given two set of data points in the form of list of tuples like \n",
    "<pre>\n",
    "Red =[(R11,R12),(R21,R22),(R31,R32),(R41,R42),(R51,R52),..,(Rn1,Rn2)]\n",
    "Blue=[(B11,B12),(B21,B22),(B31,B32),(B41,B42),(B51,B52),..,(Bm1,Bm2)]\n",
    "</pre>\n",
    "and set of line equations(in the string format, i.e list of strings)\n",
    "<pre>\n",
    "Lines = [a1x+b1y+c1,a2x+b2y+c2,a3x+b3y+c3,a4x+b4y+c4,..,K lines]\n",
    "Note: You need to do string parsing here and get the coefficients of x,y and intercept.\n",
    "</pre>\n",
    "Your task here is to print \"YES\"/\"NO\" for each line given. You should print YES, if all the red points are one side of the line and blue points are on other side of the line, otherwise you should print NO.\n",
    "<pre>\n",
    "Ex:\n",
    "Red= [(1,1),(2,1),(4,2),(2,4), (-1,4)]\n",
    "Blue= [(-2,-1),(-1,-2),(-3,-2),(-3,-1),(1,-3)]\n",
    "Lines=[\"1x+1y+0\",\"1x-1y+0\",\"1x+0y-3\",\"0x+1y-0.5\"]\n",
    "<img src='https://i.imgur.com/DoQf7mE.jpg' width=400>\n",
    "Output:\n",
    "YES\n",
    "NO\n",
    "NO\n",
    "YES\n",
    "</pre>"
   ]
  },
  {
   "cell_type": "code",
   "execution_count": 108,
   "metadata": {
    "colab": {},
    "colab_type": "code",
    "id": "ajGKp92zctBT"
   },
   "outputs": [
    {
     "name": "stdout",
     "output_type": "stream",
     "text": [
      "for line : 1x+1y+0\n",
      "['1', 'x', '+', '1', 'y', '+', '0']\n",
      "+\n",
      "(1, 1)\n",
      "in j=0\n",
      "+\n",
      "2\n",
      "positive\n",
      "(2, 1)\n",
      "+\n",
      "3\n",
      "3\n",
      "similar\n",
      "(4, 2)\n",
      "+\n",
      "6\n",
      "6\n",
      "similar\n",
      "(2, 4)\n",
      "+\n",
      "6\n",
      "6\n",
      "similar\n",
      "(-1, 4)\n",
      "+\n",
      "3\n",
      "3\n",
      "similar\n",
      "\n",
      "for line : 1x-1y+0\n",
      "['1', 'x', '-', '1', 'y', '+', '0']\n",
      "+\n",
      "(1, 1)\n",
      "in j=0\n",
      "+\n",
      "0\n",
      "on the line\n",
      "\n",
      "for line : 1x+0y-3\n",
      "['1', 'x', '+', '0', 'y', '-', '3']\n",
      "-\n",
      "(1, 1)\n",
      "in j=0\n",
      "-\n",
      "-2\n",
      "negative\n",
      "(2, 1)\n",
      "-\n",
      "-1\n",
      "-1\n",
      "similar\n",
      "(4, 2)\n",
      "-\n",
      "1\n",
      "1\n",
      "different\n",
      "\n",
      "for line : 0x+1y-0.5\n",
      "['0', 'x', '+', '1', 'y', '-', '0', '.', '5']\n",
      "-\n",
      "(1, 1)\n",
      "in j=0\n",
      "-\n",
      "1\n",
      "positive\n",
      "(2, 1)\n",
      "-\n",
      "1\n",
      "1\n",
      "similar\n",
      "(4, 2)\n",
      "-\n",
      "2\n",
      "2\n",
      "similar\n",
      "(2, 4)\n",
      "-\n",
      "4\n",
      "4\n",
      "similar\n",
      "(-1, 4)\n",
      "-\n",
      "4\n",
      "4\n",
      "similar\n",
      "\n"
     ]
    }
   ],
   "source": [
    "import math\n",
    "\n",
    "def i_am_the_one(red,blue,line):\n",
    "    print('for line :',line)\n",
    "    cf_list=[]\n",
    "    for i in range(len(line)):\n",
    "        cf_list.append(line[i])\n",
    "    print(cf_list)\n",
    "    cf_x=int(cf_list[0])\n",
    "    cf_y_sign=cf_list[2]\n",
    "    cf_y=int(cf_list[3])\n",
    "    cf_c=int(cf_list[6])\n",
    "    cf_x=int(cf_list[0])\n",
    "    cf_c_sign=cf_list[5]\n",
    "    print(cf_c_sign)\n",
    "    sign=''\n",
    "    sign_pt=''\n",
    "    count=0\n",
    "    for j in red:\n",
    "        print(j)\n",
    "        if count==0:\n",
    "            count=count+1\n",
    "            print('in j=0')\n",
    "            print(cf_c_sign)\n",
    "            if cf_y_sign=='+':\n",
    "                \n",
    "                value=(cf_x*j[0])+(cf_y*j[1])\n",
    "            else:\n",
    "                value=(cf_x*j[0])-(cf_y*j[1])  \n",
    "            if cf_c_sign=='-':\n",
    "                value=value-cf_c\n",
    "            else:\n",
    "                value-value+cf_c                \n",
    "            print(value)\n",
    "            if value > 0:\n",
    "                sign='positive'\n",
    "            elif value < 0:\n",
    "                sign='negative'  \n",
    "            else:\n",
    "                print('on the line')\n",
    "                return 0\n",
    "            print(sign)\n",
    "            continue\n",
    "        else:\n",
    "            print(cf_c_sign)\n",
    "            if cf_y_sign=='+':    \n",
    "                value=(cf_x*j[0])+(cf_y*j[1])\n",
    "            else:\n",
    "                value=(cf_x*j[0])-(cf_y*j[1])  \n",
    "            if cf_c_sign=='-':\n",
    "                value=value-cf_c\n",
    "            else:\n",
    "                value-value+cf_c                \n",
    "            print(value)\n",
    "            print(value)\n",
    "            if value > 0:\n",
    "                sign_pt='positive'\n",
    "            elif value < 0:\n",
    "                sign_pt='negative'  \n",
    "            else:\n",
    "                print('on the line')\n",
    "                return 0\n",
    "            if sign_pt==sign:\n",
    "                print('similar')\n",
    "            else:\n",
    "                print('different')\n",
    "                return 0\n",
    "            \n",
    "    return #yes/no\n",
    "\n",
    "Red= [(1,1),(2,1),(4,2),(2,4), (-1,4)]\n",
    "Blue= [(-2,-1),(-1,-2),(-3,-2),(-3,-1),(1,-3)]\n",
    "Lines=[\"1x+1y+0\",\"1x-1y+0\",\"1x+0y-3\",\"0x+1y-0.5\"]\n",
    "\n",
    "for i in Lines:\n",
    "    yes_or_no = i_am_the_one(Red, Blue, i)\n",
    "    print() # the returned value"
   ]
  },
  {
   "cell_type": "code",
   "execution_count": 82,
   "metadata": {},
   "outputs": [
    {
     "data": {
      "text/plain": [
       "['1', 'x', '+', '2', 'y', '+', '9']"
      ]
     },
     "execution_count": 82,
     "metadata": {},
     "output_type": "execute_result"
    }
   ],
   "source": [
    "word = '1x+2y+9'\n",
    "alpha=[]\n",
    "for i in range(len(word)):\n",
    "    alpha.append(word[i])\n",
    "alpha"
   ]
  },
  {
   "cell_type": "markdown",
   "metadata": {
    "colab_type": "text",
    "id": "HZ_1M5COctBV"
   },
   "source": [
    "<h3> Q7: Filling the missing values in the specified format</h3>\n",
    "\n",
    "You will be given a string with digits and '\\_'(missing value) symbols you have to replace the '\\_' symbols as explained \n",
    "\n",
    "<pre>\n",
    "Ex 1: _, _, _, 24 ==> 24/4, 24/4, 24/4, 24/4 i.e we. have distributed the 24 equally to all 4 places <br>\n",
    "Ex 2: 40, _, _, _, 60 ==> (60+40)/5,(60+40)/5,(60+40)/5,(60+40)/5,(60+40)/5 ==> 20, 20, 20, 20, 20 i.e. the sum of (60+40) is distributed qually to all 5 places<br>\n",
    "Ex 3: 80, _, _, _, _  ==> 80/5,80/5,80/5,80/5,80/5 ==> 16, 16, 16, 16, 16 i.e. the 80 is distributed qually to all 5 missing values that are right to it<br>\n",
    "Ex 4: _, _, 30, _, _, _, 50, _, _  \n",
    "==> we will fill the missing values from left to right \n",
    "    a. first we will distribute the 30 to left two missing values (10, 10, 10, _, _, _, 50, _, _)\n",
    "    b. now distribute the sum (10+50) missing values in between (10, 10, 12, 12, 12, 12, 12, _, _) \n",
    "    c. now we will distribute 12 to right side missing values (10, 10, 12, 12, 12, 12, 4, 4, 4)\n",
    "</pre>\n",
    "for a given string with comma seprate values, which will have both missing values numbers like ex: \"_, _, x, _, _, _\"\n",
    "you need fill the missing values\n",
    "\n",
    "Q: your program reads a string like ex: \"_, _, x, _, _, _\" and returns the filled sequence\n",
    "\n",
    "Ex: \n",
    "<pre>\n",
    "Input1: \"_,_,_,24\"\n",
    "Output1: 6,6,6,6\n",
    "\n",
    "Input2: \"40,_,_,_,60\"\n",
    "Output2: 20,20,20,20,20\n",
    "\n",
    "Input3: \"80,_,_,_,_\"\n",
    "Output3: 16,16,16,16,16\n",
    "\n",
    "Input4: \"_,_,30,_,_,_,50,_,_\"\n",
    "Output4: 10,10,12,12,12,12,4,4,4\n",
    "</pre>\n",
    "\n"
   ]
  },
  {
   "cell_type": "code",
   "execution_count": 65,
   "metadata": {},
   "outputs": [
    {
     "name": "stdout",
     "output_type": "stream",
     "text": [
      "1st: [10.0, 10.0, 10.0, '_', '_', '_', 50, '_', '_']\n",
      "[10.0, 10.0, 12.0, 12.0, 12.0, 12.0, 12.0, '_', '_']\n",
      "[10.0, 10.0, 12.0, 12.0, 12.0, 12.0, 4.0, 4.0, 4.0]\n"
     ]
    }
   ],
   "source": [
    "\n",
    "def curve_smoothing(str):\n",
    "    #print(str)\n",
    "    for i in range(len(str)):\n",
    "        #print('i is',i)\n",
    "        if str[i]=='_' and i==0:\n",
    "            count=2\n",
    "            for j in range(len(str)-1):\n",
    "                j=j+1\n",
    "                if str[j]=='_':\n",
    "                    count=count+1\n",
    "                else:\n",
    "                    value=(int(str[j])/count)\n",
    "                    for k in range(j):\n",
    "                        str[k]=value\n",
    "                    str[k+1]=value \n",
    "                    print('1st:',str)\n",
    "                    break\n",
    "\n",
    "        elif str[i]=='_' and i!=0:\n",
    "            count=2\n",
    "            value=str[i-1]\n",
    "            for j in range(len(str)-1-i):\n",
    "                j=i+1+j\n",
    "                if str[j]=='_':\n",
    "                    count=count+1\n",
    "                elif str[j]!='_':\n",
    "                    value=value+(str[j])\n",
    "                    count=count+1\n",
    "                    value=value/count\n",
    "                    for k in range(count):\n",
    "                        str[i+k-1]=value\n",
    "                    print(str)\n",
    "                    break \n",
    "            if j==(len(str)-1):       \n",
    "                value=value/count\n",
    "                for k in range(count):\n",
    "                    str[i-1+k]=value\n",
    "                print(str)\n",
    "    return str\n",
    "\n",
    "S=  \"_,_,30,_,_,_,50,_,_\"\n",
    "str=S.split(',')\n",
    "for i in range(len(str)):\n",
    "    if str[i]!='_':\n",
    "        str[i]=int(str[i])\n",
    "smoothed_values= curve_smoothing(str)"
   ]
  },
  {
   "cell_type": "markdown",
   "metadata": {
    "colab_type": "text",
    "id": "0ilN2M4GctBb"
   },
   "source": [
    "<h3> Q8: Find the probabilities</h3>\n",
    "\n",
    "You will be given a list of lists, each sublist will be of length 2 i.e. [[x,y],[p,q],[l,m]..[r,s]]\n",
    "consider its like a martrix of n rows and two columns\n",
    "1. The first column F will contain only 5 uniques values (F1, F2, F3, F4, F5)\n",
    "2. The second column S will contain only 3 uniques values (S1, S2, S3)\n",
    "<pre>\n",
    "your task is to find\n",
    "a. Probability of P(F=F1|S==S1), P(F=F1|S==S2), P(F=F1|S==S3)\n",
    "b. Probability of P(F=F2|S==S1), P(F=F2|S==S2), P(F=F2|S==S3)\n",
    "c. Probability of P(F=F3|S==S1), P(F=F3|S==S2), P(F=F3|S==S3)\n",
    "d. Probability of P(F=F4|S==S1), P(F=F4|S==S2), P(F=F4|S==S3)\n",
    "e. Probability of P(F=F5|S==S1), P(F=F5|S==S2), P(F=F5|S==S3)\n",
    "</pre>\n",
    "Ex:\n",
    "\n",
    "<pre>\n",
    "[[F1,S1],[F2,S2],[F3,S3],[F1,S2],[F2,S3],[F3,S2],[F2,S1],[F4,S1],[F4,S3],[F5,S1]]\n",
    "\n",
    "a. P(F=F1|S==S1)=1/4, P(F=F1|S==S2)=1/3, P(F=F1|S==S3)=0/3\n",
    "b. P(F=F2|S==S1)=1/4, P(F=F2|S==S2)=1/3, P(F=F2|S==S3)=1/3\n",
    "c. P(F=F3|S==S1)=0/4, P(F=F3|S==S2)=1/3, P(F=F3|S==S3)=1/3\n",
    "d. P(F=F4|S==S1)=1/4, P(F=F4|S==S2)=0/3, P(F=F4|S==S3)=1/3\n",
    "e. P(F=F5|S==S1)=1/4, P(F=F5|S==S2)=0/3, P(F=F5|S==S3)=0/3\n",
    "</pre>\n",
    "\n"
   ]
  },
  {
   "cell_type": "code",
   "execution_count": 3,
   "metadata": {},
   "outputs": [],
   "source": [
    "A=['w','f']"
   ]
  },
  {
   "cell_type": "code",
   "execution_count": 59,
   "metadata": {
    "colab": {},
    "colab_type": "code",
    "id": "u2-h2hEVctBc"
   },
   "outputs": [
    {
     "name": "stdout",
     "output_type": "stream",
     "text": [
      "\n",
      "\n",
      "P(F= F1 /S= S1 )= 0.25, P(F= F1 /S= S2 )= 0.3333333333333333, P(F= F1 /S= S3 )= 0.0, \n",
      "\n",
      "P(F= F2 /S= S1 )= 0.25, P(F= F2 /S= S2 )= 0.3333333333333333, P(F= F2 /S= S3 )= 0.3333333333333333, \n",
      "\n",
      "P(F= F3 /S= S1 )= 0.0, P(F= F3 /S= S2 )= 0.3333333333333333, P(F= F3 /S= S3 )= 0.3333333333333333, \n",
      "\n",
      "P(F= F4 /S= S1 )= 0.25, P(F= F4 /S= S2 )= 0.0, P(F= F4 /S= S3 )= 0.3333333333333333, \n",
      "\n",
      "P(F= F5 /S= S1 )= 0.25, P(F= F5 /S= S2 )= 0.0, P(F= F5 /S= S3 )= 0.0, "
     ]
    }
   ],
   "source": [
    "def compute_conditional_probabilites(A):\n",
    "    unique_list_S = []\n",
    "    unique_list_F = []\n",
    "    sec_col_S=[]\n",
    "    col_dict={}\n",
    "    for i in range(len(A)): \n",
    "        sec_col_S.append(A[i][1])\n",
    "        if A[i][1] not in unique_list_S: \n",
    "            unique_list_S.append(A[i][1])\n",
    "        if A[i][0] not in unique_list_F: \n",
    "            unique_list_F.append(A[i][0])\n",
    "            \n",
    "    #print(unique_list_F[0])   \n",
    "    #print(sec_col.count(unique_list[0]))\n",
    "    for i in range(len(unique_list_S)):\n",
    "        col_dict[unique_list_S[i]]=sec_col_S.count(unique_list_S[i])\n",
    "    #print(col_dict)\n",
    "    #print(col_dict['S1'])\n",
    "    \n",
    "    for j in range(len(unique_list_F)):\n",
    "        print('\\n')\n",
    "        for k in range(len(unique_list_S)):\n",
    "            prob=[]\n",
    "            prob.append(unique_list_F[j])\n",
    "            prob.append(unique_list_S[k])\n",
    "            #print(prob)\n",
    "            num=A.count(prob)\n",
    "            den=col_dict[prob[1]]\n",
    "            #print(num,den)\n",
    "            #P(F=F1|S==S1)=1/4\n",
    "            print('P(F=',unique_list_F[j],'/S=',unique_list_S[k],')=',num/den,end =\", \")\n",
    "    \n",
    "A = [['F1','S1'],['F2','S2'],['F3','S3'],['F1','S2'],['F2','S3'],['F3','S2'],['F2','S1'],['F4','S1'],['F4','S3'],['F5','S1']]\n",
    "compute_conditional_probabilites(A)"
   ]
  },
  {
   "cell_type": "markdown",
   "metadata": {
    "colab_type": "text",
    "id": "SaZWAWS2ctBe"
   },
   "source": [
    "<h3> Q9: Operations on sentences </h3>\n",
    "\n",
    "You will be given two sentances S1, S2 your task is to find \n",
    "<pre>\n",
    "a. Number of common words between S1, S2\n",
    "b. Words in S1 but not in S2\n",
    "c. Words in S2 but not in S1\n",
    "</pre>\n",
    "\n",
    "Ex: \n",
    "<pre>\n",
    "S1= \"the first column F will contain only 5 unique values\"\n",
    "S2= \"the second column S will contain only 3 unique values\"\n",
    "Output:\n",
    "a. 7\n",
    "b. ['first','F','5']\n",
    "c. ['second','S','3']\n",
    "</pre>"
   ]
  },
  {
   "cell_type": "code",
   "execution_count": 34,
   "metadata": {
    "colab": {},
    "colab_type": "code",
    "id": "X1xvVewFctBf"
   },
   "outputs": [
    {
     "data": {
      "text/plain": [
       "(7, ['first', 'F', '5'], ['second', 'S', '3'])"
      ]
     },
     "execution_count": 34,
     "metadata": {},
     "output_type": "execute_result"
    }
   ],
   "source": [
    "\n",
    "def string_features(S1, S2):\n",
    "    w1=S1.split()\n",
    "    w2=S2.split()\n",
    "    a=0\n",
    "    b=[]\n",
    "    c=[]\n",
    "    for i in range(len(W1)):\n",
    "        if w1[i] in w2:\n",
    "            a=a+1\n",
    "        else:\n",
    "            b.append(w1[i])\n",
    "        if w2[i] not in w1:\n",
    "            c.append(w2[i])  \n",
    "    return a, b, c\n",
    "\n",
    "S1= \"the first column F will contain only 5 uniques values\"\n",
    "S2= \"the second column S will contain only 3 uniques values\"\n",
    "a,b,c = string_features(S1, S2)\n",
    "a,b,c"
   ]
  },
  {
   "cell_type": "markdown",
   "metadata": {
    "colab_type": "text",
    "id": "opOgYITuctBh"
   },
   "source": [
    "<h3> Q10: Error Function</h3>\n",
    "\n",
    "You will be given a list of lists, each sublist will be of length 2 i.e. [[x,y],[p,q],[l,m]..[r,s]]\n",
    "consider its like a martrix of n rows and two columns\n",
    "\n",
    "a. the first column Y will contain interger values <br>\n",
    "b. the second column $Y_{score}$ will be having float values <br>\n",
    "Your task is to find the value of $f(Y,Y_{score}) = -1*\\frac{1}{n}\\Sigma_{for each Y,Y_{score} pair}(Ylog10(Y_{score})+(1-Y)log10(1-Y_{score}))$ here n is the number of rows in the matrix\n",
    "<pre>\n",
    "Ex:\n",
    "[[1, 0.4], [0, 0.5], [0, 0.9], [0, 0.3], [0, 0.6], [1, 0.1], [1, 0.9], [1, 0.8]]\n",
    "output:\n",
    "0.44982\n",
    "</pre>\n",
    "$\\frac{-1}{8}\\cdot((1\\cdot log_{10}(0.4)+0\\cdot log_{10}(0.6))+(0\\cdot log_{10}(0.5)+1\\cdot log_{10}(0.5)) + ... + (1\\cdot log_{10}(0.8)+0\\cdot log_{10}(0.2)) )$"
   ]
  },
  {
   "cell_type": "code",
   "execution_count": 15,
   "metadata": {
    "colab": {},
    "colab_type": "code",
    "id": "ZtOa7y5sctBi"
   },
   "outputs": [
    {
     "name": "stdout",
     "output_type": "stream",
     "text": [
      "8\n"
     ]
    }
   ],
   "source": [
    "import math as mt\n",
    "def compute_log_loss(A):\n",
    "    cnt=len(A)\n",
    "    sum1=0\n",
    "    print(cnt)\n",
    "    for i in range(len(A)):\n",
    "        sum1=sum1+(A[i][0]*(mt.log10(A[i][1])))\n",
    "    loss=sum1/cnt    \n",
    "    return loss\n",
    "\n",
    "A = [[1, 0.4], [0, 0.5], [0, 0.9], [0, 0.3], [0, 0.6], [1, 0.1], [1, 0.9], [1, 0.8]]\n",
    "loss = compute_log_loss(A)"
   ]
  }
 ],
 "metadata": {
  "colab": {
   "name": "2. Python Mandatory Assignment.ipynb",
   "provenance": [],
   "version": "0.3.2"
  },
  "kernelspec": {
   "display_name": "Python 3",
   "language": "python",
   "name": "python3"
  },
  "language_info": {
   "codemirror_mode": {
    "name": "ipython",
    "version": 3
   },
   "file_extension": ".py",
   "mimetype": "text/x-python",
   "name": "python",
   "nbconvert_exporter": "python",
   "pygments_lexer": "ipython3",
   "version": "3.7.3"
  }
 },
 "nbformat": 4,
 "nbformat_minor": 1
}
